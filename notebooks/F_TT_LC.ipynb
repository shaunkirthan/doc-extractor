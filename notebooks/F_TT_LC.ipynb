{
 "cells": [
  {
   "cell_type": "code",
   "execution_count": 2,
   "id": "56b2936c-5074-42b3-8e59-fb2957b70155",
   "metadata": {},
   "outputs": [
    {
     "name": "stdout",
     "output_type": "stream",
     "text": [
      "📄 Processing output_images\\sample-2_sample-7_merged\\sample-2_sample-7_merged_page_1.png...\n",
      "✅ Saved table CSV: output_csv\\sample-2_sample-7_merged\\tables\\table_page1_1.csv\n",
      "✅ Saved table CSV: output_csv\\sample-2_sample-7_merged\\tables\\table_page1_2.csv\n",
      "📄 Processing output_images\\sample-2_sample-7_merged\\sample-2_sample-7_merged_page_2.png...\n",
      "🔄 Rotated 90°: output_images\\sample-2_sample-7_merged\\sample-2_sample-7_merged_page_2.png\n",
      "✅ Saved table CSV: output_csv\\sample-2_sample-7_merged\\tables\\table_page2_1.csv\n",
      "✅ Saved table CSV: output_csv\\sample-2_sample-7_merged\\tables\\table_page2_2.csv\n",
      "📄 Processing output_images\\Sample2\\Sample2_page_1.png...\n",
      "📄 Processing output_images\\Sample2\\Sample2_page_2.png...\n",
      "✅ Saved table CSV: output_csv\\Sample2\\tables\\table_page2_1.csv\n",
      "📄 Processing output_images\\Sample2\\Sample2_page_3.png...\n",
      "🔄 Rotated 180°: output_images\\Sample2\\Sample2_page_3.png\n",
      "✅ Saved table CSV: output_csv\\Sample2\\tables\\table_page3_1.csv\n",
      "✅ Saved table CSV: output_csv\\Sample2\\tables\\table_page3_2.csv\n",
      "📄 Processing output_images\\Sample2\\Sample2_page_4.png...\n",
      "✅ Saved table CSV: output_csv\\Sample2\\tables\\table_page4_1.csv\n",
      "✅ Saved table CSV: output_csv\\Sample2\\tables\\table_page4_2.csv\n",
      "📄 Processing output_images\\SAMPLE3\\SAMPLE3_page_1.png...\n",
      "✅ Saved table CSV: output_csv\\SAMPLE3\\tables\\table_page1_1.csv\n",
      "📄 Processing output_images\\SAMPLE3\\SAMPLE3_page_2.png...\n",
      "✅ Saved table CSV: output_csv\\SAMPLE3\\tables\\table_page2_1.csv\n",
      "📄 Processing output_images\\SAMPLE3\\SAMPLE3_page_3.png...\n",
      "✅ Saved table CSV: output_csv\\SAMPLE3\\tables\\table_page3_1.csv\n",
      "📄 Processing output_images\\SAMPLE3\\SAMPLE3_page_4.png...\n",
      "✅ Saved table CSV: output_csv\\SAMPLE3\\tables\\table_page4_1.csv\n",
      "📄 Processing output_images\\SAMPLE3\\SAMPLE3_page_5.png...\n",
      "✅ Saved table CSV: output_csv\\SAMPLE3\\tables\\table_page5_1.csv\n",
      "📄 Processing output_images\\SAMPLE3\\SAMPLE3_page_6.png...\n",
      "✅ Saved table CSV: output_csv\\SAMPLE3\\tables\\table_page6_1.csv\n",
      "📄 Processing output_images\\SAMPLE3\\SAMPLE3_page_7.png...\n",
      "✅ Saved table CSV: output_csv\\SAMPLE3\\tables\\table_page7_1.csv\n",
      "📄 Processing output_images\\SAMPLE3\\SAMPLE3_page_8.png...\n",
      "✅ Saved table CSV: output_csv\\SAMPLE3\\tables\\table_page8_1.csv\n",
      "📄 Processing output_images\\SAMPLE3\\SAMPLE3_page_9.png...\n",
      "✅ Saved table CSV: output_csv\\SAMPLE3\\tables\\table_page9_1.csv\n",
      "📄 Processing output_images\\SAMPLE3\\SAMPLE3_page_10.png...\n",
      "✅ Saved table CSV: output_csv\\SAMPLE3\\tables\\table_page10_1.csv\n",
      "📄 Processing output_images\\SAMPLE3\\SAMPLE3_page_11.png...\n",
      "✅ Saved table CSV: output_csv\\SAMPLE3\\tables\\table_page11_1.csv\n",
      "📄 Processing output_images\\SAMPLE3\\SAMPLE3_page_12.png...\n",
      "✅ Saved table CSV: output_csv\\SAMPLE3\\tables\\table_page12_1.csv\n",
      "📄 Processing output_images\\SAMPLE3\\SAMPLE3_page_13.png...\n",
      "✅ Saved table CSV: output_csv\\SAMPLE3\\tables\\table_page13_1.csv\n",
      "✅ Saved table CSV: output_csv\\SAMPLE3\\tables\\table_page13_2.csv\n",
      "🎉 All PDFs processed successfully!\n"
     ]
    },
    {
     "data": {
      "text/markdown": [
       "---\n",
       "## Extracted Content for sample-2_sample-7_merged.pdf (Page 1)"
      ],
      "text/plain": [
       "<IPython.core.display.Markdown object>"
      ]
     },
     "metadata": {},
     "output_type": "display_data"
    },
    {
     "data": {
      "text/markdown": [
       "**Headings:**"
      ],
      "text/plain": [
       "<IPython.core.display.Markdown object>"
      ]
     },
     "metadata": {},
     "output_type": "display_data"
    },
    {
     "data": {
      "text/markdown": [
       "- YPP-1"
      ],
      "text/plain": [
       "<IPython.core.display.Markdown object>"
      ]
     },
     "metadata": {},
     "output_type": "display_data"
    },
    {
     "data": {
      "text/markdown": [
       "- YOKOTA"
      ],
      "text/plain": [
       "<IPython.core.display.Markdown object>"
      ]
     },
     "metadata": {},
     "output_type": "display_data"
    },
    {
     "data": {
      "text/markdown": [
       "- YPP-1SA"
      ],
      "text/plain": [
       "<IPython.core.display.Markdown object>"
      ]
     },
     "metadata": {},
     "output_type": "display_data"
    },
    {
     "data": {
      "text/markdown": [
       "- PISTON PUMPS"
      ],
      "text/plain": [
       "<IPython.core.display.Markdown object>"
      ]
     },
     "metadata": {},
     "output_type": "display_data"
    },
    {
     "data": {
      "text/markdown": [
       "- HANDLING GUIDE"
      ],
      "text/plain": [
       "<IPython.core.display.Markdown object>"
      ]
     },
     "metadata": {},
     "output_type": "display_data"
    },
    {
     "data": {
      "text/markdown": [
       "- YPP-1SA is for clear water and chemicals-proof."
      ],
      "text/plain": [
       "<IPython.core.display.Markdown object>"
      ]
     },
     "metadata": {},
     "output_type": "display_data"
    },
    {
     "data": {
      "text/markdown": [
       "- CHARACTERISTIC CURVES"
      ],
      "text/plain": [
       "<IPython.core.display.Markdown object>"
      ]
     },
     "metadata": {},
     "output_type": "display_data"
    },
    {
     "data": {
      "text/markdown": [
       "- FEATURES"
      ],
      "text/plain": [
       "<IPython.core.display.Markdown object>"
      ]
     },
     "metadata": {},
     "output_type": "display_data"
    },
    {
     "data": {
      "text/markdown": [
       "- YOKOTA INDUSTRIAL CO., .LTD."
      ],
      "text/plain": [
       "<IPython.core.display.Markdown object>"
      ]
     },
     "metadata": {},
     "output_type": "display_data"
    },
    {
     "data": {
      "text/markdown": [
       "**Paragraphs:**"
      ],
      "text/plain": [
       "<IPython.core.display.Markdown object>"
      ]
     },
     "metadata": {},
     "output_type": "display_data"
    },
    {
     "data": {
      "text/markdown": [
       "1. YOKOTA YPP-1 Piston Pump is a reciprocating pneumatic pump. It is used for many applications delivering fuel to vehicles, aircrafts, oil burners and other equipments as well as discharging water oil or chemicals from drums or other containers quickly and easily."
      ],
      "text/plain": [
       "<IPython.core.display.Markdown object>"
      ]
     },
     "metadata": {},
     "output_type": "display_data"
    },
    {
     "data": {
      "text/markdown": [
       "2. Drum can pipe (Optional parts) Note: Different materials are used for YPP-1 and YPP-1SA."
      ],
      "text/plain": [
       "<IPython.core.display.Markdown object>"
      ]
     },
     "metadata": {},
     "output_type": "display_data"
    },
    {
     "data": {
      "text/markdown": [
       "3. YPP-1SA is for clear water and chemicals-proof. This model is designed for rust/corrosion-free. Materials of main parts are teflon, brass pipe, stainless steel, teflon-rubber, copper plate, al-casting, bronze, fiber packing, etc. When you use the tool for some special chemicals, please refer to the material specifications shown in this leaflet."
      ],
      "text/plain": [
       "<IPython.core.display.Markdown object>"
      ]
     },
     "metadata": {},
     "output_type": "display_data"
    },
    {
     "data": {
      "text/markdown": [
       "4. FEATURES 1. This pump transfers various kinds of liquid freely without moving the heavy containers. No fear of spilling or contamination of liquid to be delivered. The pump is trouble-free and economical to operate. 2. When a cock set on the middle or the end of the discharge pipe is closed to stop the delivery of liquid, it switches off the pump automatically even if the air cock is still opened. As the energy source is compressed air, it does not cause any troubles like over-heat or damage."
      ],
      "text/plain": [
       "<IPython.core.display.Markdown object>"
      ]
     },
     "metadata": {},
     "output_type": "display_data"
    },
    {
     "data": {
      "text/markdown": [
       "5. Air Pressure Used kgf/cri(lb/in2) 3~5(43~71)"
      ],
      "text/plain": [
       "<IPython.core.display.Markdown object>"
      ]
     },
     "metadata": {},
     "output_type": "display_data"
    },
    {
     "data": {
      "text/markdown": [
       "**Tables:**"
      ],
      "text/plain": [
       "<IPython.core.display.Markdown object>"
      ]
     },
     "metadata": {},
     "output_type": "display_data"
    },
    {
     "data": {
      "text/html": [
       "<div>\n",
       "<style scoped>\n",
       "    .dataframe tbody tr th:only-of-type {\n",
       "        vertical-align: middle;\n",
       "    }\n",
       "\n",
       "    .dataframe tbody tr th {\n",
       "        vertical-align: top;\n",
       "    }\n",
       "\n",
       "    .dataframe thead th {\n",
       "        text-align: right;\n",
       "    }\n",
       "</style>\n",
       "<table border=\"1\" class=\"dataframe\">\n",
       "  <thead>\n",
       "    <tr style=\"text-align: right;\">\n",
       "      <th></th>\n",
       "      <th>0</th>\n",
       "      <th>1</th>\n",
       "    </tr>\n",
       "  </thead>\n",
       "  <tbody>\n",
       "    <tr>\n",
       "      <th>0</th>\n",
       "      <td>Air Pressure Used</td>\n",
       "      <td>Max. Air Consumption</td>\n",
       "    </tr>\n",
       "    <tr>\n",
       "      <th>1</th>\n",
       "      <td>3kgf/cm</td>\n",
       "      <td>0.17</td>\n",
       "    </tr>\n",
       "    <tr>\n",
       "      <th>2</th>\n",
       "      <td>4kgf/cm</td>\n",
       "      <td>0.25</td>\n",
       "    </tr>\n",
       "    <tr>\n",
       "      <th>3</th>\n",
       "      <td>5kgf/cm</td>\n",
       "      <td>0.34</td>\n",
       "    </tr>\n",
       "    <tr>\n",
       "      <th>4</th>\n",
       "      <td>* 6kgf/cm</td>\n",
       "      <td>0.42</td>\n",
       "    </tr>\n",
       "  </tbody>\n",
       "</table>\n",
       "</div>"
      ],
      "text/plain": [
       "                   0                     1\n",
       "0  Air Pressure Used  Max. Air Consumption\n",
       "1            3kgf/cm                  0.17\n",
       "2            4kgf/cm                  0.25\n",
       "3            5kgf/cm                  0.34\n",
       "4          * 6kgf/cm                  0.42"
      ]
     },
     "metadata": {},
     "output_type": "display_data"
    },
    {
     "data": {
      "text/html": [
       "<div>\n",
       "<style scoped>\n",
       "    .dataframe tbody tr th:only-of-type {\n",
       "        vertical-align: middle;\n",
       "    }\n",
       "\n",
       "    .dataframe tbody tr th {\n",
       "        vertical-align: top;\n",
       "    }\n",
       "\n",
       "    .dataframe thead th {\n",
       "        text-align: right;\n",
       "    }\n",
       "</style>\n",
       "<table border=\"1\" class=\"dataframe\">\n",
       "  <thead>\n",
       "    <tr style=\"text-align: right;\">\n",
       "      <th></th>\n",
       "      <th>0</th>\n",
       "      <th>1</th>\n",
       "      <th>2</th>\n",
       "      <th>3</th>\n",
       "      <th>4</th>\n",
       "      <th>5</th>\n",
       "      <th>6</th>\n",
       "      <th>7</th>\n",
       "      <th>8</th>\n",
       "      <th>9</th>\n",
       "      <th>10</th>\n",
       "      <th>11</th>\n",
       "    </tr>\n",
       "  </thead>\n",
       "  <tbody>\n",
       "    <tr>\n",
       "      <th>0</th>\n",
       "      <td>MODEL</td>\n",
       "      <td>Capacity</td>\n",
       "      <td>Blows Per min</td>\n",
       "      <td>Piston Dia.</td>\n",
       "      <td>Piston Stroke</td>\n",
       "      <td>Overall Length</td>\n",
       "      <td>Net Weight</td>\n",
       "      <td>Suction Port Thread</td>\n",
       "      <td>Delivery Port Thread</td>\n",
       "      <td>Air Inlet Thread /Pipe</td>\n",
       "      <td>Air Hose Size</td>\n",
       "      <td>Air Pressure Used</td>\n",
       "    </tr>\n",
       "    <tr>\n",
       "      <th>1</th>\n",
       "      <td></td>\n",
       "      <td>l/min(gal/min)</td>\n",
       "      <td>(Approx.)</td>\n",
       "      <td>mm(in)</td>\n",
       "      <td>mm(in)</td>\n",
       "      <td>mm(in)</td>\n",
       "      <td>kg(lb)</td>\n",
       "      <td>(Pipe</td>\n",
       "      <td>Thread)</td>\n",
       "      <td>(Thread )</td>\n",
       "      <td>mm(in)</td>\n",
       "      <td>kgf/cri(lb/in2)</td>\n",
       "    </tr>\n",
       "    <tr>\n",
       "      <th>2</th>\n",
       "      <td>YPP-1</td>\n",
       "      <td>35(9.2)</td>\n",
       "      <td>200</td>\n",
       "      <td>50(2)</td>\n",
       "      <td>100(315/6)</td>\n",
       "      <td>608(23)5/6)</td>\n",
       "      <td>3.5(7.7)</td>\n",
       "      <td>PT11/2</td>\n",
       "      <td>PT3/4</td>\n",
       "      <td>PT 1/4</td>\n",
       "      <td>9.5(3/8)</td>\n",
       "      <td>3~5(43~71)</td>\n",
       "    </tr>\n",
       "    <tr>\n",
       "      <th>3</th>\n",
       "      <td>YPP-1SA</td>\n",
       "      <td></td>\n",
       "      <td></td>\n",
       "      <td></td>\n",
       "      <td></td>\n",
       "      <td></td>\n",
       "      <td>4.3(9.5)</td>\n",
       "      <td></td>\n",
       "      <td></td>\n",
       "      <td></td>\n",
       "      <td></td>\n",
       "      <td></td>\n",
       "    </tr>\n",
       "  </tbody>\n",
       "</table>\n",
       "</div>"
      ],
      "text/plain": [
       "        0               1              2            3              4   \\\n",
       "0    MODEL        Capacity  Blows Per min  Piston Dia.  Piston Stroke   \n",
       "1           l/min(gal/min)      (Approx.)       mm(in)         mm(in)   \n",
       "2    YPP-1         35(9.2)            200        50(2)     100(315/6)   \n",
       "3  YPP-1SA                                                              \n",
       "\n",
       "               5           6                    7                     8   \\\n",
       "0  Overall Length  Net Weight  Suction Port Thread  Delivery Port Thread   \n",
       "1          mm(in)      kg(lb)                (Pipe               Thread)   \n",
       "2     608(23)5/6)    3.5(7.7)               PT11/2                 PT3/4   \n",
       "3                    4.3(9.5)                                              \n",
       "\n",
       "                       9              10                 11  \n",
       "0  Air Inlet Thread /Pipe  Air Hose Size  Air Pressure Used  \n",
       "1               (Thread )         mm(in)    kgf/cri(lb/in2)  \n",
       "2                  PT 1/4       9.5(3/8)         3~5(43~71)  \n",
       "3                                                            "
      ]
     },
     "metadata": {},
     "output_type": "display_data"
    },
    {
     "data": {
      "text/markdown": [
       "---\n",
       "## Extracted Content for sample-2_sample-7_merged.pdf (Page 2)"
      ],
      "text/plain": [
       "<IPython.core.display.Markdown object>"
      ]
     },
     "metadata": {},
     "output_type": "display_data"
    },
    {
     "data": {
      "text/markdown": [
       "**Headings:**"
      ],
      "text/plain": [
       "<IPython.core.display.Markdown object>"
      ]
     },
     "metadata": {},
     "output_type": "display_data"
    },
    {
     "data": {
      "text/markdown": [
       "- PISTON PUMP"
      ],
      "text/plain": [
       "<IPython.core.display.Markdown object>"
      ]
     },
     "metadata": {},
     "output_type": "display_data"
    },
    {
     "data": {
      "text/markdown": [
       "- YPP-1 PARTS LIST"
      ],
      "text/plain": [
       "<IPython.core.display.Markdown object>"
      ]
     },
     "metadata": {},
     "output_type": "display_data"
    },
    {
     "data": {
      "text/markdown": [
       "- SECTION DRAWING"
      ],
      "text/plain": [
       "<IPython.core.display.Markdown object>"
      ]
     },
     "metadata": {},
     "output_type": "display_data"
    },
    {
     "data": {
      "text/markdown": [
       "- YPP-1SA PARTS LIST"
      ],
      "text/plain": [
       "<IPython.core.display.Markdown object>"
      ]
     },
     "metadata": {},
     "output_type": "display_data"
    },
    {
     "data": {
      "text/markdown": [
       "- EXPLODED VIEW"
      ],
      "text/plain": [
       "<IPython.core.display.Markdown object>"
      ]
     },
     "metadata": {},
     "output_type": "display_data"
    },
    {
     "data": {
      "text/markdown": [
       "- STANDARD ACCESSORIES"
      ],
      "text/plain": [
       "<IPython.core.display.Markdown object>"
      ]
     },
     "metadata": {},
     "output_type": "display_data"
    },
    {
     "data": {
      "text/markdown": [
       "- OPTIONAL ACCESSORIES"
      ],
      "text/plain": [
       "<IPython.core.display.Markdown object>"
      ]
     },
     "metadata": {},
     "output_type": "display_data"
    },
    {
     "data": {
      "text/markdown": [
       "- DO"
      ],
      "text/plain": [
       "<IPython.core.display.Markdown object>"
      ]
     },
     "metadata": {},
     "output_type": "display_data"
    },
    {
     "data": {
      "text/markdown": [
       "- All parts disassembled should be washed in kerosene"
      ],
      "text/plain": [
       "<IPython.core.display.Markdown object>"
      ]
     },
     "metadata": {},
     "output_type": "display_data"
    },
    {
     "data": {
      "text/markdown": [
       "- DISASSEMBLY AND ASSEMBLY"
      ],
      "text/plain": [
       "<IPython.core.display.Markdown object>"
      ]
     },
     "metadata": {},
     "output_type": "display_data"
    },
    {
     "data": {
      "text/markdown": [
       "- When the induction valve shaft (27) is removed, use"
      ],
      "text/plain": [
       "<IPython.core.display.Markdown object>"
      ]
     },
     "metadata": {},
     "output_type": "display_data"
    },
    {
     "data": {
      "text/markdown": [
       "- Turn the induction inlet thread (28) left and remove"
      ],
      "text/plain": [
       "<IPython.core.display.Markdown object>"
      ]
     },
     "metadata": {},
     "output_type": "display_data"
    },
    {
     "data": {
      "text/markdown": [
       "- MAINTENANCE"
      ],
      "text/plain": [
       "<IPython.core.display.Markdown object>"
      ]
     },
     "metadata": {},
     "output_type": "display_data"
    },
    {
     "data": {
      "text/markdown": [
       "- Wearing parts should be replaced. Particularly, it is"
      ],
      "text/plain": [
       "<IPython.core.display.Markdown object>"
      ]
     },
     "metadata": {},
     "output_type": "display_data"
    },
    {
     "data": {
      "text/markdown": [
       "- Unnecessary remachining with parts spoils not only"
      ],
      "text/plain": [
       "<IPython.core.display.Markdown object>"
      ]
     },
     "metadata": {},
     "output_type": "display_data"
    },
    {
     "data": {
      "text/markdown": [
       "- Yokota's genuine spare parts are readily available."
      ],
      "text/plain": [
       "<IPython.core.display.Markdown object>"
      ]
     },
     "metadata": {},
     "output_type": "display_data"
    },
    {
     "data": {
      "text/markdown": [
       "- When ordering spare parts, be sure to give (1) Name"
      ],
      "text/plain": [
       "<IPython.core.display.Markdown object>"
      ]
     },
     "metadata": {},
     "output_type": "display_data"
    },
    {
     "data": {
      "text/markdown": [
       "- Parts marked will be in liquid to be pumped out."
      ],
      "text/plain": [
       "<IPython.core.display.Markdown object>"
      ]
     },
     "metadata": {},
     "output_type": "display_data"
    },
    {
     "data": {
      "text/markdown": [
       "- The differences of the special parts for YPP-1SA are"
      ],
      "text/plain": [
       "<IPython.core.display.Markdown object>"
      ]
     },
     "metadata": {},
     "output_type": "display_data"
    },
    {
     "data": {
      "text/markdown": [
       "- To disassemble the case packing (23), loosen the"
      ],
      "text/plain": [
       "<IPython.core.display.Markdown object>"
      ]
     },
     "metadata": {},
     "output_type": "display_data"
    },
    {
     "data": {
      "text/markdown": [
       "**Paragraphs:**"
      ],
      "text/plain": [
       "<IPython.core.display.Markdown object>"
      ]
     },
     "metadata": {},
     "output_type": "display_data"
    },
    {
     "data": {
      "text/markdown": [
       "1. Drum joint Drum joint bushing"
      ],
      "text/plain": [
       "<IPython.core.display.Markdown object>"
      ]
     },
     "metadata": {},
     "output_type": "display_data"
    },
    {
     "data": {
      "text/markdown": [
       "2. All parts disassembled should be washed in kerosene and assembled again in the other way of disassembling. When the induction valve shaft (27) is removed, use some adhesive material to prevent loosening upon reassembling."
      ],
      "text/plain": [
       "<IPython.core.display.Markdown object>"
      ]
     },
     "metadata": {},
     "output_type": "display_data"
    },
    {
     "data": {
      "text/markdown": [
       "3. DISASSEMBLY AND ASSEMBLY Turn the induction inlet thread (28) left and remove the induction inlet thread (28) and the lower cylinder from the cylinder case (17-a). 2 Turn the cylinder cap (1) left and remove the cylinder cap (1) and the upper cylinder (6) from the cylinder case (17-a). (Be careful not to change the shape of the lower cylinder (25) and the upper cylinder (6) because these parts are made up of thin pipes.) 3 To disassemble the piston rod assy (16) from the tool,fit spanners on the piston rod assy (16) and the piston (11) and turn left .Then you can take off the air cylinder parts and the piston rod assy can be removed toward the right. 4 To disassemble the air cylinder parts, loosen the three hexagon nuts (10) and then turn the hexagon socket bolt (9) left. 5 screw (30) first and then remove the case packing step (24)."
      ],
      "text/plain": [
       "<IPython.core.display.Markdown object>"
      ]
     },
     "metadata": {},
     "output_type": "display_data"
    },
    {
     "data": {
      "text/markdown": [
       "4. MAINTENANCE Wearing parts should be replaced. Particularly, it is recommended to replace packings with newones at suitable intervals. It enables the pump to function properly. Unnecessary remachining with parts spoils not only the parts but also the performance of the tools, after all. So please study well the construction and the function of the tools before remachining with the parts."
      ],
      "text/plain": [
       "<IPython.core.display.Markdown object>"
      ]
     },
     "metadata": {},
     "output_type": "display_data"
    },
    {
     "data": {
      "text/markdown": [
       "5. Yokota's genuine spare parts are readily available. When ordering spare parts, be sure to give (1) Name of models of the tool, (2) Serial number, (3) Names of parts desired and parts number. The differences of the special parts for YPP-1SA are only concerned with their materials, and so please pay your attention to this point when you order the"
      ],
      "text/plain": [
       "<IPython.core.display.Markdown object>"
      ]
     },
     "metadata": {},
     "output_type": "display_data"
    },
    {
     "data": {
      "text/markdown": [
       "6. spare parts. Parts marked will be in liquid to be pumped out."
      ],
      "text/plain": [
       "<IPython.core.display.Markdown object>"
      ]
     },
     "metadata": {},
     "output_type": "display_data"
    },
    {
     "data": {
      "text/markdown": [
       "7. To disassemble the case packing (23), loosen the screw (30) first and then remove the case packing step (24)."
      ],
      "text/plain": [
       "<IPython.core.display.Markdown object>"
      ]
     },
     "metadata": {},
     "output_type": "display_data"
    },
    {
     "data": {
      "text/markdown": [
       "**Tables:**"
      ],
      "text/plain": [
       "<IPython.core.display.Markdown object>"
      ]
     },
     "metadata": {},
     "output_type": "display_data"
    },
    {
     "data": {
      "text/html": [
       "<div>\n",
       "<style scoped>\n",
       "    .dataframe tbody tr th:only-of-type {\n",
       "        vertical-align: middle;\n",
       "    }\n",
       "\n",
       "    .dataframe tbody tr th {\n",
       "        vertical-align: top;\n",
       "    }\n",
       "\n",
       "    .dataframe thead th {\n",
       "        text-align: right;\n",
       "    }\n",
       "</style>\n",
       "<table border=\"1\" class=\"dataframe\">\n",
       "  <thead>\n",
       "    <tr style=\"text-align: right;\">\n",
       "      <th></th>\n",
       "      <th>0</th>\n",
       "      <th>1</th>\n",
       "      <th>2</th>\n",
       "      <th>3</th>\n",
       "      <th>4</th>\n",
       "      <th>5</th>\n",
       "      <th>6</th>\n",
       "      <th>7</th>\n",
       "    </tr>\n",
       "  </thead>\n",
       "  <tbody>\n",
       "    <tr>\n",
       "      <th>0</th>\n",
       "      <td></td>\n",
       "      <td></td>\n",
       "      <td></td>\n",
       "      <td></td>\n",
       "      <td></td>\n",
       "      <td></td>\n",
       "      <td></td>\n",
       "      <td></td>\n",
       "    </tr>\n",
       "    <tr>\n",
       "      <th>1</th>\n",
       "      <td>Index No.</td>\n",
       "      <td>Name of Parts</td>\n",
       "      <td>Per Set</td>\n",
       "      <td></td>\n",
       "      <td>Parts No.</td>\n",
       "      <td></td>\n",
       "      <td></td>\n",
       "      <td>Material</td>\n",
       "    </tr>\n",
       "    <tr>\n",
       "      <th>2</th>\n",
       "      <td>1</td>\n",
       "      <td>Cylinder Cap</td>\n",
       "      <td>1</td>\n",
       "      <td>7003</td>\n",
       "      <td>1002</td>\n",
       "      <td>00</td>\n",
       "      <td>00</td>\n",
       "      <td>AC4AT6</td>\n",
       "    </tr>\n",
       "    <tr>\n",
       "      <th>3</th>\n",
       "      <td>2</td>\n",
       "      <td>Conical Spring (20X42X35)</td>\n",
       "      <td>1</td>\n",
       "      <td>8020</td>\n",
       "      <td>3047</td>\n",
       "      <td>00</td>\n",
       "      <td>00</td>\n",
       "      <td>SWPA</td>\n",
       "    </tr>\n",
       "    <tr>\n",
       "      <th>4</th>\n",
       "      <td>3</td>\n",
       "      <td>Washer (36X42X6)</td>\n",
       "      <td>1</td>\n",
       "      <td>8040</td>\n",
       "      <td>1065</td>\n",
       "      <td>oo</td>\n",
       "      <td>00</td>\n",
       "      <td>SS41</td>\n",
       "    </tr>\n",
       "    <tr>\n",
       "      <th>5</th>\n",
       "      <td>4</td>\n",
       "      <td>Retaining Ring (39.6X2.4)</td>\n",
       "      <td>1</td>\n",
       "      <td>8030</td>\n",
       "      <td>1041</td>\n",
       "      <td>00</td>\n",
       "      <td>00</td>\n",
       "      <td>SWB</td>\n",
       "    </tr>\n",
       "    <tr>\n",
       "      <th>6</th>\n",
       "      <td>5</td>\n",
       "      <td>FA-Packing (48X54X1.5)</td>\n",
       "      <td>4</td>\n",
       "      <td>8010</td>\n",
       "      <td>3015</td>\n",
       "      <td>00</td>\n",
       "      <td>loo</td>\n",
       "      <td>Fiber</td>\n",
       "    </tr>\n",
       "    <tr>\n",
       "      <th>7</th>\n",
       "      <td>6</td>\n",
       "      <td>Upper Cylinder</td>\n",
       "      <td>1</td>\n",
       "      <td>7003</td>\n",
       "      <td>1003</td>\n",
       "      <td>01</td>\n",
       "      <td>00</td>\n",
       "      <td>A2017</td>\n",
       "    </tr>\n",
       "    <tr>\n",
       "      <th>8</th>\n",
       "      <td>7</td>\n",
       "      <td>Piston Valve A Assy.</td>\n",
       "      <td>1set</td>\n",
       "      <td>7003</td>\n",
       "      <td>1005</td>\n",
       "      <td>01</td>\n",
       "      <td>99</td>\n",
       "      <td></td>\n",
       "    </tr>\n",
       "    <tr>\n",
       "      <th>9</th>\n",
       "      <td></td>\n",
       "      <td>(a) Piston Valve (A)</td>\n",
       "      <td>1</td>\n",
       "      <td>7003</td>\n",
       "      <td>1005</td>\n",
       "      <td>01</td>\n",
       "      <td>01</td>\n",
       "      <td>SS41</td>\n",
       "    </tr>\n",
       "    <tr>\n",
       "      <th>10</th>\n",
       "      <td></td>\n",
       "      <td>(b) Piston Valve Seat</td>\n",
       "      <td>1</td>\n",
       "      <td>7003</td>\n",
       "      <td>1006</td>\n",
       "      <td>00</td>\n",
       "      <td>00</td>\n",
       "      <td>NBR</td>\n",
       "    </tr>\n",
       "    <tr>\n",
       "      <th>11</th>\n",
       "      <td>8</td>\n",
       "      <td>Piston Valve Spacer</td>\n",
       "      <td>3</td>\n",
       "      <td>7003</td>\n",
       "      <td>1007</td>\n",
       "      <td>01</td>\n",
       "      <td>00</td>\n",
       "      <td>SS41</td>\n",
       "    </tr>\n",
       "    <tr>\n",
       "      <th>12</th>\n",
       "      <td>9</td>\n",
       "      <td>Hexagon Socket Bolt (M5X28X16)</td>\n",
       "      <td>3</td>\n",
       "      <td>8070</td>\n",
       "      <td>3025</td>\n",
       "      <td>00</td>\n",
       "      <td>00</td>\n",
       "      <td>SCM435</td>\n",
       "    </tr>\n",
       "    <tr>\n",
       "      <th>13</th>\n",
       "      <td>10</td>\n",
       "      <td>Hexagon Nut (M5)</td>\n",
       "      <td>3</td>\n",
       "      <td>9500</td>\n",
       "      <td>1011</td>\n",
       "      <td>oo</td>\n",
       "      <td>01</td>\n",
       "      <td>SS41</td>\n",
       "    </tr>\n",
       "    <tr>\n",
       "      <th>14</th>\n",
       "      <td>11</td>\n",
       "      <td>Piston</td>\n",
       "      <td>1</td>\n",
       "      <td>7003</td>\n",
       "      <td>1008</td>\n",
       "      <td>01</td>\n",
       "      <td>00</td>\n",
       "      <td>SS41</td>\n",
       "    </tr>\n",
       "    <tr>\n",
       "      <th>15</th>\n",
       "      <td>12</td>\n",
       "      <td>Piston Packing</td>\n",
       "      <td>1</td>\n",
       "      <td>7003</td>\n",
       "      <td>1009</td>\n",
       "      <td>01</td>\n",
       "      <td>00</td>\n",
       "      <td>NBR</td>\n",
       "    </tr>\n",
       "    <tr>\n",
       "      <th>16</th>\n",
       "      <td>13</td>\n",
       "      <td>Piston Valve (B)</td>\n",
       "      <td>1</td>\n",
       "      <td>7003</td>\n",
       "      <td>1005</td>\n",
       "      <td>02</td>\n",
       "      <td>02</td>\n",
       "      <td>SS41</td>\n",
       "    </tr>\n",
       "    <tr>\n",
       "      <th>17</th>\n",
       "      <td>14</td>\n",
       "      <td>Washer (14.5X43X2.5)</td>\n",
       "      <td>1</td>\n",
       "      <td>8040</td>\n",
       "      <td>1032</td>\n",
       "      <td>00</td>\n",
       "      <td>oo</td>\n",
       "      <td>SS41</td>\n",
       "    </tr>\n",
       "    <tr>\n",
       "      <th>18</th>\n",
       "      <td>15</td>\n",
       "      <td>Spring (42X36)</td>\n",
       "      <td>1</td>\n",
       "      <td>8020</td>\n",
       "      <td>1123</td>\n",
       "      <td>00</td>\n",
       "      <td>00</td>\n",
       "      <td>SWPA</td>\n",
       "    </tr>\n",
       "    <tr>\n",
       "      <th>19</th>\n",
       "      <td>16</td>\n",
       "      <td>Piston Rod Assy.</td>\n",
       "      <td>1set</td>\n",
       "      <td>7003</td>\n",
       "      <td>1011</td>\n",
       "      <td>01</td>\n",
       "      <td>99</td>\n",
       "      <td></td>\n",
       "    </tr>\n",
       "    <tr>\n",
       "      <th>20</th>\n",
       "      <td></td>\n",
       "      <td>(a) Piston Rod</td>\n",
       "      <td>1</td>\n",
       "      <td>7003</td>\n",
       "      <td>1011</td>\n",
       "      <td>01</td>\n",
       "      <td>00</td>\n",
       "      <td>STPT38</td>\n",
       "    </tr>\n",
       "    <tr>\n",
       "      <th>21</th>\n",
       "      <td></td>\n",
       "      <td>(b) Piston Rod Plate (A)</td>\n",
       "      <td>1</td>\n",
       "      <td>7003</td>\n",
       "      <td>1010</td>\n",
       "      <td>00</td>\n",
       "      <td>01</td>\n",
       "      <td>SS41</td>\n",
       "    </tr>\n",
       "    <tr>\n",
       "      <th>22</th>\n",
       "      <td></td>\n",
       "      <td>(c) Piston Rod Plate (B)</td>\n",
       "      <td>1</td>\n",
       "      <td>7003</td>\n",
       "      <td>1010</td>\n",
       "      <td>00</td>\n",
       "      <td>02</td>\n",
       "      <td>SS41</td>\n",
       "    </tr>\n",
       "    <tr>\n",
       "      <th>23</th>\n",
       "      <td>17</td>\n",
       "      <td>Cylinder Case Assy.</td>\n",
       "      <td>1set</td>\n",
       "      <td>7003</td>\n",
       "      <td>1001</td>\n",
       "      <td>01</td>\n",
       "      <td>99</td>\n",
       "      <td></td>\n",
       "    </tr>\n",
       "    <tr>\n",
       "      <th>24</th>\n",
       "      <td></td>\n",
       "      <td>(a) Cylinder Case</td>\n",
       "      <td>1</td>\n",
       "      <td>7003</td>\n",
       "      <td>1001</td>\n",
       "      <td>01</td>\n",
       "      <td>100</td>\n",
       "      <td>AC4AT6</td>\n",
       "    </tr>\n",
       "    <tr>\n",
       "      <th>25</th>\n",
       "      <td></td>\n",
       "      <td>(b) Oval Fillister Head Screw (M6)</td>\n",
       "      <td>1</td>\n",
       "      <td>9450</td>\n",
       "      <td>1007</td>\n",
       "      <td>00</td>\n",
       "      <td>00</td>\n",
       "      <td>SS41</td>\n",
       "    </tr>\n",
       "    <tr>\n",
       "      <th>26</th>\n",
       "      <td></td>\n",
       "      <td>(c) \"O\" Ring (P35)</td>\n",
       "      <td>3</td>\n",
       "      <td>9010</td>\n",
       "      <td>1026</td>\n",
       "      <td>00</td>\n",
       "      <td>00</td>\n",
       "      <td>NBR</td>\n",
       "    </tr>\n",
       "    <tr>\n",
       "      <th>27</th>\n",
       "      <td>18</td>\n",
       "      <td>Hexagon Nut (W1/2)</td>\n",
       "      <td>1</td>\n",
       "      <td>9500</td>\n",
       "      <td>2001</td>\n",
       "      <td>00</td>\n",
       "      <td>02</td>\n",
       "      <td>SS41</td>\n",
       "    </tr>\n",
       "    <tr>\n",
       "      <th>28</th>\n",
       "      <td>19</td>\n",
       "      <td>Discharge Valve Case</td>\n",
       "      <td>1</td>\n",
       "      <td>7003</td>\n",
       "      <td>1012</td>\n",
       "      <td>00</td>\n",
       "      <td>00</td>\n",
       "      <td>SS41</td>\n",
       "    </tr>\n",
       "    <tr>\n",
       "      <th>29</th>\n",
       "      <td>20</td>\n",
       "      <td>Split Pin (3X30)</td>\n",
       "      <td>2</td>\n",
       "      <td>9260</td>\n",
       "      <td>1001</td>\n",
       "      <td>00</td>\n",
       "      <td>00</td>\n",
       "      <td>SWRM-4</td>\n",
       "    </tr>\n",
       "    <tr>\n",
       "      <th>30</th>\n",
       "      <td>21</td>\n",
       "      <td>Discharge Valve</td>\n",
       "      <td>1</td>\n",
       "      <td>7003</td>\n",
       "      <td>1013</td>\n",
       "      <td>00</td>\n",
       "      <td>00</td>\n",
       "      <td>SS41</td>\n",
       "    </tr>\n",
       "    <tr>\n",
       "      <th>31</th>\n",
       "      <td>22</td>\n",
       "      <td>Washer (30.5X41X2.5)</td>\n",
       "      <td>1</td>\n",
       "      <td>8040</td>\n",
       "      <td>1058</td>\n",
       "      <td>00</td>\n",
       "      <td>oo</td>\n",
       "      <td>SS41</td>\n",
       "    </tr>\n",
       "    <tr>\n",
       "      <th>32</th>\n",
       "      <td>23</td>\n",
       "      <td>Case Packing</td>\n",
       "      <td>1</td>\n",
       "      <td>7003</td>\n",
       "      <td>1014</td>\n",
       "      <td>00</td>\n",
       "      <td>oo</td>\n",
       "      <td>NBR</td>\n",
       "    </tr>\n",
       "    <tr>\n",
       "      <th>33</th>\n",
       "      <td>24</td>\n",
       "      <td>Case Packing Step</td>\n",
       "      <td>1</td>\n",
       "      <td>7003</td>\n",
       "      <td>1015</td>\n",
       "      <td>01</td>\n",
       "      <td>00</td>\n",
       "      <td>SS41</td>\n",
       "    </tr>\n",
       "    <tr>\n",
       "      <th>34</th>\n",
       "      <td>25</td>\n",
       "      <td>Lower Cylinder</td>\n",
       "      <td>1</td>\n",
       "      <td>7003</td>\n",
       "      <td>1004</td>\n",
       "      <td>01</td>\n",
       "      <td>00</td>\n",
       "      <td>A2016</td>\n",
       "    </tr>\n",
       "    <tr>\n",
       "      <th>35</th>\n",
       "      <td>26</td>\n",
       "      <td>Induction Valve</td>\n",
       "      <td>1</td>\n",
       "      <td>7003</td>\n",
       "      <td>1016</td>\n",
       "      <td>00</td>\n",
       "      <td>00</td>\n",
       "      <td>SS41</td>\n",
       "    </tr>\n",
       "    <tr>\n",
       "      <th>36</th>\n",
       "      <td>27</td>\n",
       "      <td>Induction Valve Shaft</td>\n",
       "      <td>1</td>\n",
       "      <td>7003</td>\n",
       "      <td>1017</td>\n",
       "      <td>00</td>\n",
       "      <td>00</td>\n",
       "      <td>SS41</td>\n",
       "    </tr>\n",
       "    <tr>\n",
       "      <th>37</th>\n",
       "      <td>28</td>\n",
       "      <td>Induction Inlet Thread</td>\n",
       "      <td>1</td>\n",
       "      <td>7003</td>\n",
       "      <td>1018</td>\n",
       "      <td>00</td>\n",
       "      <td>oo</td>\n",
       "      <td>BC6</td>\n",
       "    </tr>\n",
       "    <tr>\n",
       "      <th>38</th>\n",
       "      <td>29</td>\n",
       "      <td>Air Cock Assy.</td>\n",
       "      <td>1set</td>\n",
       "      <td>9650</td>\n",
       "      <td>0001</td>\n",
       "      <td>00</td>\n",
       "      <td>99</td>\n",
       "      <td>C3604</td>\n",
       "    </tr>\n",
       "    <tr>\n",
       "      <th>39</th>\n",
       "      <td>30</td>\n",
       "      <td>Round Fillister Head Screw (M4X8)</td>\n",
       "      <td>1</td>\n",
       "      <td>9400</td>\n",
       "      <td>1003</td>\n",
       "      <td>00</td>\n",
       "      <td>oo</td>\n",
       "      <td>SS41</td>\n",
       "    </tr>\n",
       "    <tr>\n",
       "      <th>40</th>\n",
       "      <td>31</td>\n",
       "      <td>C-Packing (30.5X41X0.2)</td>\n",
       "      <td>1</td>\n",
       "      <td>8010</td>\n",
       "      <td>1137</td>\n",
       "      <td>oo</td>\n",
       "      <td>loo</td>\n",
       "      <td>C1100P</td>\n",
       "    </tr>\n",
       "    <tr>\n",
       "      <th>41</th>\n",
       "      <td>32</td>\n",
       "      <td>C-Packing (30.5X41X0.3)</td>\n",
       "      <td>1</td>\n",
       "      <td>8010</td>\n",
       "      <td>1138</td>\n",
       "      <td>oo</td>\n",
       "      <td>00</td>\n",
       "      <td>C1100P</td>\n",
       "    </tr>\n",
       "    <tr>\n",
       "      <th>42</th>\n",
       "      <td>33</td>\n",
       "      <td>C-Packing (30.5X41X0.5)</td>\n",
       "      <td>1</td>\n",
       "      <td>8010</td>\n",
       "      <td>1139</td>\n",
       "      <td>00</td>\n",
       "      <td>00</td>\n",
       "      <td>C1100P</td>\n",
       "    </tr>\n",
       "    <tr>\n",
       "      <th>43</th>\n",
       "      <td>34</td>\n",
       "      <td>Inlet Thread (1/2X%)</td>\n",
       "      <td>1</td>\n",
       "      <td>8200</td>\n",
       "      <td>1012</td>\n",
       "      <td>00</td>\n",
       "      <td>00</td>\n",
       "      <td>SS41</td>\n",
       "    </tr>\n",
       "    <tr>\n",
       "      <th>44</th>\n",
       "      <td>35</td>\n",
       "      <td>Hose Nipple Assy.</td>\n",
       "      <td>1set</td>\n",
       "      <td>8110</td>\n",
       "      <td>1008</td>\n",
       "      <td>00</td>\n",
       "      <td>99</td>\n",
       "      <td>SS41</td>\n",
       "    </tr>\n",
       "    <tr>\n",
       "      <th>45</th>\n",
       "      <td>Optional</td>\n",
       "      <td>Parts</td>\n",
       "      <td></td>\n",
       "      <td></td>\n",
       "      <td></td>\n",
       "      <td></td>\n",
       "      <td></td>\n",
       "      <td></td>\n",
       "    </tr>\n",
       "    <tr>\n",
       "      <th>46</th>\n",
       "      <td>36</td>\n",
       "      <td>Pipe</td>\n",
       "      <td>1</td>\n",
       "      <td>7003</td>\n",
       "      <td>1039</td>\n",
       "      <td>00</td>\n",
       "      <td>100</td>\n",
       "      <td>SGP</td>\n",
       "    </tr>\n",
       "    <tr>\n",
       "      <th>47</th>\n",
       "      <td>37</td>\n",
       "      <td>Drum Joint</td>\n",
       "      <td></td>\n",
       "      <td>7003</td>\n",
       "      <td>1036</td>\n",
       "      <td></td>\n",
       "      <td>99</td>\n",
       "      <td>BC6</td>\n",
       "    </tr>\n",
       "  </tbody>\n",
       "</table>\n",
       "</div>"
      ],
      "text/plain": [
       "            0                                   1        2     3          4  \\\n",
       "0                                                                             \n",
       "1   Index No.                       Name of Parts  Per Set        Parts No.   \n",
       "2           1                        Cylinder Cap        1  7003       1002   \n",
       "3           2           Conical Spring (20X42X35)        1  8020       3047   \n",
       "4           3                    Washer (36X42X6)        1  8040       1065   \n",
       "5           4           Retaining Ring (39.6X2.4)        1  8030       1041   \n",
       "6           5              FA-Packing (48X54X1.5)        4  8010       3015   \n",
       "7           6                      Upper Cylinder        1  7003       1003   \n",
       "8           7                Piston Valve A Assy.     1set  7003       1005   \n",
       "9                            (a) Piston Valve (A)        1  7003       1005   \n",
       "10                          (b) Piston Valve Seat        1  7003       1006   \n",
       "11          8                 Piston Valve Spacer        3  7003       1007   \n",
       "12          9      Hexagon Socket Bolt (M5X28X16)        3  8070       3025   \n",
       "13         10                    Hexagon Nut (M5)        3  9500       1011   \n",
       "14         11                              Piston        1  7003       1008   \n",
       "15         12                      Piston Packing        1  7003       1009   \n",
       "16         13                    Piston Valve (B)        1  7003       1005   \n",
       "17         14                Washer (14.5X43X2.5)        1  8040       1032   \n",
       "18         15                      Spring (42X36)        1  8020       1123   \n",
       "19         16                    Piston Rod Assy.     1set  7003       1011   \n",
       "20                                 (a) Piston Rod        1  7003       1011   \n",
       "21                       (b) Piston Rod Plate (A)        1  7003       1010   \n",
       "22                       (c) Piston Rod Plate (B)        1  7003       1010   \n",
       "23         17                 Cylinder Case Assy.     1set  7003       1001   \n",
       "24                              (a) Cylinder Case        1  7003       1001   \n",
       "25             (b) Oval Fillister Head Screw (M6)        1  9450       1007   \n",
       "26                             (c) \"O\" Ring (P35)        3  9010       1026   \n",
       "27         18                  Hexagon Nut (W1/2)        1  9500       2001   \n",
       "28         19                Discharge Valve Case        1  7003       1012   \n",
       "29         20                    Split Pin (3X30)        2  9260       1001   \n",
       "30         21                     Discharge Valve        1  7003       1013   \n",
       "31         22                Washer (30.5X41X2.5)        1  8040       1058   \n",
       "32         23                        Case Packing        1  7003       1014   \n",
       "33         24                   Case Packing Step        1  7003       1015   \n",
       "34         25                      Lower Cylinder        1  7003       1004   \n",
       "35         26                     Induction Valve        1  7003       1016   \n",
       "36         27               Induction Valve Shaft        1  7003       1017   \n",
       "37         28              Induction Inlet Thread        1  7003       1018   \n",
       "38         29                      Air Cock Assy.     1set  9650       0001   \n",
       "39         30   Round Fillister Head Screw (M4X8)        1  9400       1003   \n",
       "40         31             C-Packing (30.5X41X0.2)        1  8010       1137   \n",
       "41         32             C-Packing (30.5X41X0.3)        1  8010       1138   \n",
       "42         33             C-Packing (30.5X41X0.5)        1  8010       1139   \n",
       "43         34                Inlet Thread (1/2X%)        1  8200       1012   \n",
       "44         35                   Hose Nipple Assy.     1set  8110       1008   \n",
       "45   Optional                               Parts                             \n",
       "46         36                                Pipe        1  7003       1039   \n",
       "47         37                          Drum Joint           7003       1036   \n",
       "\n",
       "     5    6         7  \n",
       "0                      \n",
       "1            Material  \n",
       "2   00   00    AC4AT6  \n",
       "3   00   00      SWPA  \n",
       "4   oo   00      SS41  \n",
       "5   00   00       SWB  \n",
       "6   00  loo     Fiber  \n",
       "7   01   00     A2017  \n",
       "8   01   99            \n",
       "9   01   01      SS41  \n",
       "10  00   00       NBR  \n",
       "11  01   00      SS41  \n",
       "12  00   00    SCM435  \n",
       "13  oo   01      SS41  \n",
       "14  01   00      SS41  \n",
       "15  01   00       NBR  \n",
       "16  02   02      SS41  \n",
       "17  00   oo      SS41  \n",
       "18  00   00      SWPA  \n",
       "19  01   99            \n",
       "20  01   00    STPT38  \n",
       "21  00   01      SS41  \n",
       "22  00   02      SS41  \n",
       "23  01   99            \n",
       "24  01  100    AC4AT6  \n",
       "25  00   00      SS41  \n",
       "26  00   00       NBR  \n",
       "27  00   02      SS41  \n",
       "28  00   00      SS41  \n",
       "29  00   00    SWRM-4  \n",
       "30  00   00      SS41  \n",
       "31  00   oo      SS41  \n",
       "32  00   oo       NBR  \n",
       "33  01   00      SS41  \n",
       "34  01   00     A2016  \n",
       "35  00   00      SS41  \n",
       "36  00   00      SS41  \n",
       "37  00   oo       BC6  \n",
       "38  00   99     C3604  \n",
       "39  00   oo      SS41  \n",
       "40  oo  loo    C1100P  \n",
       "41  oo   00    C1100P  \n",
       "42  00   00    C1100P  \n",
       "43  00   00      SS41  \n",
       "44  00   99      SS41  \n",
       "45                     \n",
       "46  00  100       SGP  \n",
       "47       99       BC6  "
      ]
     },
     "metadata": {},
     "output_type": "display_data"
    },
    {
     "data": {
      "text/html": [
       "<div>\n",
       "<style scoped>\n",
       "    .dataframe tbody tr th:only-of-type {\n",
       "        vertical-align: middle;\n",
       "    }\n",
       "\n",
       "    .dataframe tbody tr th {\n",
       "        vertical-align: top;\n",
       "    }\n",
       "\n",
       "    .dataframe thead th {\n",
       "        text-align: right;\n",
       "    }\n",
       "</style>\n",
       "<table border=\"1\" class=\"dataframe\">\n",
       "  <thead>\n",
       "    <tr style=\"text-align: right;\">\n",
       "      <th></th>\n",
       "      <th>0</th>\n",
       "      <th>1</th>\n",
       "      <th>2</th>\n",
       "      <th>3</th>\n",
       "      <th>4</th>\n",
       "    </tr>\n",
       "  </thead>\n",
       "  <tbody>\n",
       "    <tr>\n",
       "      <th>0</th>\n",
       "      <td>9630</td>\n",
       "      <td>1001</td>\n",
       "      <td>00</td>\n",
       "      <td>00</td>\n",
       "      <td>Tellon Rubber</td>\n",
       "    </tr>\n",
       "    <tr>\n",
       "      <th>1</th>\n",
       "      <td>9500</td>\n",
       "      <td>2002</td>\n",
       "      <td>00/02</td>\n",
       "      <td></td>\n",
       "      <td>SUS304</td>\n",
       "    </tr>\n",
       "    <tr>\n",
       "      <th>2</th>\n",
       "      <td>7004</td>\n",
       "      <td>1012</td>\n",
       "      <td>00 00</td>\n",
       "      <td></td>\n",
       "      <td>SUS304</td>\n",
       "    </tr>\n",
       "    <tr>\n",
       "      <th>3</th>\n",
       "      <td>9260</td>\n",
       "      <td>2001</td>\n",
       "      <td>00.00</td>\n",
       "      <td></td>\n",
       "      <td>SUS304</td>\n",
       "    </tr>\n",
       "    <tr>\n",
       "      <th>4</th>\n",
       "      <td>7004</td>\n",
       "      <td>1013</td>\n",
       "      <td>00/00</td>\n",
       "      <td></td>\n",
       "      <td>Teflon</td>\n",
       "    </tr>\n",
       "    <tr>\n",
       "      <th>5</th>\n",
       "      <td>8041</td>\n",
       "      <td>4001</td>\n",
       "      <td>00.00</td>\n",
       "      <td></td>\n",
       "      <td>SUS304</td>\n",
       "    </tr>\n",
       "    <tr>\n",
       "      <th>6</th>\n",
       "      <td>7005</td>\n",
       "      <td>1014</td>\n",
       "      <td>00 00</td>\n",
       "      <td></td>\n",
       "      <td>Teflon Rubber</td>\n",
       "    </tr>\n",
       "    <tr>\n",
       "      <th>7</th>\n",
       "      <td>7004</td>\n",
       "      <td>1015</td>\n",
       "      <td>00</td>\n",
       "      <td>oo</td>\n",
       "      <td>SUS304</td>\n",
       "    </tr>\n",
       "    <tr>\n",
       "      <th>8</th>\n",
       "      <td>7003</td>\n",
       "      <td>1004</td>\n",
       "      <td>00</td>\n",
       "      <td>00</td>\n",
       "      <td>C3604</td>\n",
       "    </tr>\n",
       "    <tr>\n",
       "      <th>9</th>\n",
       "      <td>7004</td>\n",
       "      <td>1016</td>\n",
       "      <td>oo</td>\n",
       "      <td>OO</td>\n",
       "      <td>Teflon</td>\n",
       "    </tr>\n",
       "    <tr>\n",
       "      <th>10</th>\n",
       "      <td>7004</td>\n",
       "      <td>1017</td>\n",
       "      <td>00</td>\n",
       "      <td>00</td>\n",
       "      <td>SUS304</td>\n",
       "    </tr>\n",
       "  </tbody>\n",
       "</table>\n",
       "</div>"
      ],
      "text/plain": [
       "       0     1      2   3              4\n",
       "0   9630  1001     00  00  Tellon Rubber\n",
       "1   9500  2002  00/02             SUS304\n",
       "2   7004  1012  00 00             SUS304\n",
       "3   9260  2001  00.00             SUS304\n",
       "4   7004  1013  00/00             Teflon\n",
       "5   8041  4001  00.00             SUS304\n",
       "6   7005  1014  00 00      Teflon Rubber\n",
       "7   7004  1015     00  oo         SUS304\n",
       "8   7003  1004     00  00          C3604\n",
       "9   7004  1016     oo  OO         Teflon\n",
       "10  7004  1017     00  00         SUS304"
      ]
     },
     "metadata": {},
     "output_type": "display_data"
    },
    {
     "data": {
      "text/markdown": [
       "---\n",
       "## Extracted Content for Sample2.pdf (Page 1)"
      ],
      "text/plain": [
       "<IPython.core.display.Markdown object>"
      ]
     },
     "metadata": {},
     "output_type": "display_data"
    },
    {
     "data": {
      "text/markdown": [
       "**Headings:**"
      ],
      "text/plain": [
       "<IPython.core.display.Markdown object>"
      ]
     },
     "metadata": {},
     "output_type": "display_data"
    },
    {
     "data": {
      "text/markdown": [
       "- GN OTHER"
      ],
      "text/plain": [
       "<IPython.core.display.Markdown object>"
      ]
     },
     "metadata": {},
     "output_type": "display_data"
    },
    {
     "data": {
      "text/markdown": [
       "- MARKET"
      ],
      "text/plain": [
       "<IPython.core.display.Markdown object>"
      ]
     },
     "metadata": {},
     "output_type": "display_data"
    },
    {
     "data": {
      "text/markdown": [
       "- EE50"
      ],
      "text/plain": [
       "<IPython.core.display.Markdown object>"
      ]
     },
     "metadata": {},
     "output_type": "display_data"
    },
    {
     "data": {
      "text/markdown": [
       "**Paragraphs:**"
      ],
      "text/plain": [
       "<IPython.core.display.Markdown object>"
      ]
     },
     "metadata": {},
     "output_type": "display_data"
    },
    {
     "data": {
      "text/markdown": [
       "1. NAMURA SHIPBUILDING CO.,LTD. STEERING LIGHT FINAL DRAWING"
      ],
      "text/plain": [
       "<IPython.core.display.Markdown object>"
      ]
     },
     "metadata": {},
     "output_type": "display_data"
    },
    {
     "data": {
      "text/markdown": [
       "**Tables:**"
      ],
      "text/plain": [
       "<IPython.core.display.Markdown object>"
      ]
     },
     "metadata": {},
     "output_type": "display_data"
    },
    {
     "data": {
      "text/markdown": [
       "_None_"
      ],
      "text/plain": [
       "<IPython.core.display.Markdown object>"
      ]
     },
     "metadata": {},
     "output_type": "display_data"
    },
    {
     "data": {
      "text/markdown": [
       "---\n",
       "## Extracted Content for Sample2.pdf (Page 2)"
      ],
      "text/plain": [
       "<IPython.core.display.Markdown object>"
      ]
     },
     "metadata": {},
     "output_type": "display_data"
    },
    {
     "data": {
      "text/markdown": [
       "**Headings:**"
      ],
      "text/plain": [
       "<IPython.core.display.Markdown object>"
      ]
     },
     "metadata": {},
     "output_type": "display_data"
    },
    {
     "data": {
      "text/markdown": [
       "- SPECIFICATION"
      ],
      "text/plain": [
       "<IPython.core.display.Markdown object>"
      ]
     },
     "metadata": {},
     "output_type": "display_data"
    },
    {
     "data": {
      "text/markdown": [
       "- STEERING LIGHT"
      ],
      "text/plain": [
       "<IPython.core.display.Markdown object>"
      ]
     },
     "metadata": {},
     "output_type": "display_data"
    },
    {
     "data": {
      "text/markdown": [
       "- ST"
      ],
      "text/plain": [
       "<IPython.core.display.Markdown object>"
      ]
     },
     "metadata": {},
     "output_type": "display_data"
    },
    {
     "data": {
      "text/markdown": [
       "**Paragraphs:**"
      ],
      "text/plain": [
       "<IPython.core.display.Markdown object>"
      ]
     },
     "metadata": {},
     "output_type": "display_data"
    },
    {
     "data": {
      "text/markdown": [
       "_None_"
      ],
      "text/plain": [
       "<IPython.core.display.Markdown object>"
      ]
     },
     "metadata": {},
     "output_type": "display_data"
    },
    {
     "data": {
      "text/markdown": [
       "**Tables:**"
      ],
      "text/plain": [
       "<IPython.core.display.Markdown object>"
      ]
     },
     "metadata": {},
     "output_type": "display_data"
    },
    {
     "data": {
      "text/html": [
       "<div>\n",
       "<style scoped>\n",
       "    .dataframe tbody tr th:only-of-type {\n",
       "        vertical-align: middle;\n",
       "    }\n",
       "\n",
       "    .dataframe tbody tr th {\n",
       "        vertical-align: top;\n",
       "    }\n",
       "\n",
       "    .dataframe thead th {\n",
       "        text-align: right;\n",
       "    }\n",
       "</style>\n",
       "<table border=\"1\" class=\"dataframe\">\n",
       "  <thead>\n",
       "    <tr style=\"text-align: right;\">\n",
       "      <th></th>\n",
       "      <th>0</th>\n",
       "      <th>1</th>\n",
       "      <th>2</th>\n",
       "      <th>3</th>\n",
       "      <th>4</th>\n",
       "      <th>5</th>\n",
       "      <th>6</th>\n",
       "      <th>7</th>\n",
       "      <th>8</th>\n",
       "      <th>9</th>\n",
       "      <th>10</th>\n",
       "      <th>11</th>\n",
       "      <th>12</th>\n",
       "      <th>13</th>\n",
       "      <th>14</th>\n",
       "    </tr>\n",
       "  </thead>\n",
       "  <tbody>\n",
       "    <tr>\n",
       "      <th>0</th>\n",
       "      <td>No.</td>\n",
       "      <td>Name</td>\n",
       "      <td>Watt</td>\n",
       "      <td>Drawing No.</td>\n",
       "      <td>Q'ty</td>\n",
       "      <td>Weight (kg)</td>\n",
       "      <td>Total Weight</td>\n",
       "      <td>Material</td>\n",
       "      <td>Cabele Gland</td>\n",
       "      <td>Lamp Holder</td>\n",
       "      <td>Terminal</td>\n",
       "      <td>Globe</td>\n",
       "      <td>Finish</td>\n",
       "      <td>Remarks</td>\n",
       "      <td>Symbol</td>\n",
       "    </tr>\n",
       "    <tr>\n",
       "      <th>1</th>\n",
       "      <td>1</td>\n",
       "      <td>STEERING LIGHT</td>\n",
       "      <td>40W</td>\n",
       "      <td>SG-81007 SG-T</td>\n",
       "      <td>1</td>\n",
       "      <td>1.8</td>\n",
       "      <td>1.8</td>\n",
       "      <td>POLYCAR BONATE</td>\n",
       "      <td>G20Cx1 BLIND-1</td>\n",
       "      <td>FE-27</td>\n",
       "      <td>020-2</td>\n",
       "      <td>BLUE F-90</td>\n",
       "      <td>7.5BG 7/2</td>\n",
       "      <td></td>\n",
       "      <td>ST</td>\n",
       "    </tr>\n",
       "    <tr>\n",
       "      <th>2</th>\n",
       "      <td></td>\n",
       "      <td>ST</td>\n",
       "      <td></td>\n",
       "      <td></td>\n",
       "      <td></td>\n",
       "      <td></td>\n",
       "      <td></td>\n",
       "      <td></td>\n",
       "      <td></td>\n",
       "      <td></td>\n",
       "      <td></td>\n",
       "      <td></td>\n",
       "      <td></td>\n",
       "      <td></td>\n",
       "      <td></td>\n",
       "    </tr>\n",
       "    <tr>\n",
       "      <th>3</th>\n",
       "      <td>2</td>\n",
       "      <td></td>\n",
       "      <td></td>\n",
       "      <td></td>\n",
       "      <td></td>\n",
       "      <td></td>\n",
       "      <td></td>\n",
       "      <td></td>\n",
       "      <td></td>\n",
       "      <td></td>\n",
       "      <td></td>\n",
       "      <td></td>\n",
       "      <td></td>\n",
       "      <td></td>\n",
       "      <td></td>\n",
       "    </tr>\n",
       "    <tr>\n",
       "      <th>4</th>\n",
       "      <td></td>\n",
       "      <td></td>\n",
       "      <td></td>\n",
       "      <td></td>\n",
       "      <td></td>\n",
       "      <td></td>\n",
       "      <td></td>\n",
       "      <td></td>\n",
       "      <td></td>\n",
       "      <td></td>\n",
       "      <td></td>\n",
       "      <td></td>\n",
       "      <td></td>\n",
       "      <td></td>\n",
       "      <td></td>\n",
       "    </tr>\n",
       "    <tr>\n",
       "      <th>5</th>\n",
       "      <td>3</td>\n",
       "      <td></td>\n",
       "      <td></td>\n",
       "      <td></td>\n",
       "      <td></td>\n",
       "      <td></td>\n",
       "      <td></td>\n",
       "      <td></td>\n",
       "      <td></td>\n",
       "      <td></td>\n",
       "      <td></td>\n",
       "      <td></td>\n",
       "      <td></td>\n",
       "      <td></td>\n",
       "      <td></td>\n",
       "    </tr>\n",
       "    <tr>\n",
       "      <th>6</th>\n",
       "      <td></td>\n",
       "      <td></td>\n",
       "      <td></td>\n",
       "      <td></td>\n",
       "      <td></td>\n",
       "      <td></td>\n",
       "      <td></td>\n",
       "      <td></td>\n",
       "      <td></td>\n",
       "      <td></td>\n",
       "      <td></td>\n",
       "      <td></td>\n",
       "      <td></td>\n",
       "      <td></td>\n",
       "      <td></td>\n",
       "    </tr>\n",
       "    <tr>\n",
       "      <th>7</th>\n",
       "      <td>4</td>\n",
       "      <td></td>\n",
       "      <td></td>\n",
       "      <td></td>\n",
       "      <td></td>\n",
       "      <td></td>\n",
       "      <td></td>\n",
       "      <td></td>\n",
       "      <td></td>\n",
       "      <td></td>\n",
       "      <td></td>\n",
       "      <td></td>\n",
       "      <td></td>\n",
       "      <td></td>\n",
       "      <td></td>\n",
       "    </tr>\n",
       "    <tr>\n",
       "      <th>8</th>\n",
       "      <td></td>\n",
       "      <td></td>\n",
       "      <td></td>\n",
       "      <td></td>\n",
       "      <td></td>\n",
       "      <td></td>\n",
       "      <td></td>\n",
       "      <td></td>\n",
       "      <td></td>\n",
       "      <td></td>\n",
       "      <td></td>\n",
       "      <td></td>\n",
       "      <td></td>\n",
       "      <td></td>\n",
       "      <td></td>\n",
       "    </tr>\n",
       "    <tr>\n",
       "      <th>9</th>\n",
       "      <td>5</td>\n",
       "      <td></td>\n",
       "      <td></td>\n",
       "      <td></td>\n",
       "      <td></td>\n",
       "      <td></td>\n",
       "      <td></td>\n",
       "      <td></td>\n",
       "      <td></td>\n",
       "      <td></td>\n",
       "      <td></td>\n",
       "      <td></td>\n",
       "      <td></td>\n",
       "      <td></td>\n",
       "      <td></td>\n",
       "    </tr>\n",
       "    <tr>\n",
       "      <th>10</th>\n",
       "      <td></td>\n",
       "      <td></td>\n",
       "      <td></td>\n",
       "      <td></td>\n",
       "      <td></td>\n",
       "      <td></td>\n",
       "      <td></td>\n",
       "      <td></td>\n",
       "      <td></td>\n",
       "      <td></td>\n",
       "      <td></td>\n",
       "      <td></td>\n",
       "      <td></td>\n",
       "      <td></td>\n",
       "      <td></td>\n",
       "    </tr>\n",
       "    <tr>\n",
       "      <th>11</th>\n",
       "      <td>6</td>\n",
       "      <td></td>\n",
       "      <td></td>\n",
       "      <td></td>\n",
       "      <td></td>\n",
       "      <td></td>\n",
       "      <td></td>\n",
       "      <td></td>\n",
       "      <td></td>\n",
       "      <td></td>\n",
       "      <td></td>\n",
       "      <td></td>\n",
       "      <td></td>\n",
       "      <td></td>\n",
       "      <td></td>\n",
       "    </tr>\n",
       "    <tr>\n",
       "      <th>12</th>\n",
       "      <td></td>\n",
       "      <td></td>\n",
       "      <td></td>\n",
       "      <td></td>\n",
       "      <td></td>\n",
       "      <td></td>\n",
       "      <td></td>\n",
       "      <td></td>\n",
       "      <td></td>\n",
       "      <td></td>\n",
       "      <td></td>\n",
       "      <td></td>\n",
       "      <td></td>\n",
       "      <td></td>\n",
       "      <td></td>\n",
       "    </tr>\n",
       "    <tr>\n",
       "      <th>13</th>\n",
       "      <td>7</td>\n",
       "      <td></td>\n",
       "      <td></td>\n",
       "      <td></td>\n",
       "      <td></td>\n",
       "      <td></td>\n",
       "      <td></td>\n",
       "      <td></td>\n",
       "      <td></td>\n",
       "      <td></td>\n",
       "      <td></td>\n",
       "      <td></td>\n",
       "      <td></td>\n",
       "      <td></td>\n",
       "      <td></td>\n",
       "    </tr>\n",
       "    <tr>\n",
       "      <th>14</th>\n",
       "      <td></td>\n",
       "      <td></td>\n",
       "      <td></td>\n",
       "      <td></td>\n",
       "      <td></td>\n",
       "      <td></td>\n",
       "      <td></td>\n",
       "      <td></td>\n",
       "      <td></td>\n",
       "      <td></td>\n",
       "      <td></td>\n",
       "      <td></td>\n",
       "      <td></td>\n",
       "      <td></td>\n",
       "      <td></td>\n",
       "    </tr>\n",
       "  </tbody>\n",
       "</table>\n",
       "</div>"
      ],
      "text/plain": [
       "     0               1     2              3     4            5             6   \\\n",
       "0   No.            Name  Watt    Drawing No.  Q'ty  Weight (kg)  Total Weight   \n",
       "1     1  STEERING LIGHT   40W  SG-81007 SG-T     1          1.8           1.8   \n",
       "2                    ST                                                         \n",
       "3     2                                                                         \n",
       "4                                                                               \n",
       "5     3                                                                         \n",
       "6                                                                               \n",
       "7     4                                                                         \n",
       "8                                                                               \n",
       "9     5                                                                         \n",
       "10                                                                              \n",
       "11    6                                                                         \n",
       "12                                                                              \n",
       "13    7                                                                         \n",
       "14                                                                              \n",
       "\n",
       "                7               8            9         10         11  \\\n",
       "0         Material    Cabele Gland  Lamp Holder  Terminal      Globe   \n",
       "1   POLYCAR BONATE  G20Cx1 BLIND-1        FE-27     020-2  BLUE F-90   \n",
       "2                                                                      \n",
       "3                                                                      \n",
       "4                                                                      \n",
       "5                                                                      \n",
       "6                                                                      \n",
       "7                                                                      \n",
       "8                                                                      \n",
       "9                                                                      \n",
       "10                                                                     \n",
       "11                                                                     \n",
       "12                                                                     \n",
       "13                                                                     \n",
       "14                                                                     \n",
       "\n",
       "           12       13      14  \n",
       "0      Finish  Remarks  Symbol  \n",
       "1   7.5BG 7/2               ST  \n",
       "2                               \n",
       "3                               \n",
       "4                               \n",
       "5                               \n",
       "6                               \n",
       "7                               \n",
       "8                               \n",
       "9                               \n",
       "10                              \n",
       "11                              \n",
       "12                              \n",
       "13                              \n",
       "14                              "
      ]
     },
     "metadata": {},
     "output_type": "display_data"
    },
    {
     "data": {
      "text/markdown": [
       "---\n",
       "## Extracted Content for Sample2.pdf (Page 3)"
      ],
      "text/plain": [
       "<IPython.core.display.Markdown object>"
      ]
     },
     "metadata": {},
     "output_type": "display_data"
    },
    {
     "data": {
      "text/markdown": [
       "**Headings:**"
      ],
      "text/plain": [
       "<IPython.core.display.Markdown object>"
      ]
     },
     "metadata": {},
     "output_type": "display_data"
    },
    {
     "data": {
      "text/markdown": [
       "- SHENGAN CO., LTD."
      ],
      "text/plain": [
       "<IPython.core.display.Markdown object>"
      ]
     },
     "metadata": {},
     "output_type": "display_data"
    },
    {
     "data": {
      "text/markdown": [
       "- MORTY"
      ],
      "text/plain": [
       "<IPython.core.display.Markdown object>"
      ]
     },
     "metadata": {},
     "output_type": "display_data"
    },
    {
     "data": {
      "text/markdown": [
       "- SG-81007"
      ],
      "text/plain": [
       "<IPython.core.display.Markdown object>"
      ]
     },
     "metadata": {},
     "output_type": "display_data"
    },
    {
     "data": {
      "text/markdown": [
       "- SG-T"
      ],
      "text/plain": [
       "<IPython.core.display.Markdown object>"
      ]
     },
     "metadata": {},
     "output_type": "display_data"
    },
    {
     "data": {
      "text/markdown": [
       "- STEERING LIGHT"
      ],
      "text/plain": [
       "<IPython.core.display.Markdown object>"
      ]
     },
     "metadata": {},
     "output_type": "display_data"
    },
    {
     "data": {
      "text/markdown": [
       "- C-17"
      ],
      "text/plain": [
       "<IPython.core.display.Markdown object>"
      ]
     },
     "metadata": {},
     "output_type": "display_data"
    },
    {
     "data": {
      "text/markdown": [
       "**Paragraphs:**"
      ],
      "text/plain": [
       "<IPython.core.display.Markdown object>"
      ]
     },
     "metadata": {},
     "output_type": "display_data"
    },
    {
     "data": {
      "text/markdown": [
       "_None_"
      ],
      "text/plain": [
       "<IPython.core.display.Markdown object>"
      ]
     },
     "metadata": {},
     "output_type": "display_data"
    },
    {
     "data": {
      "text/markdown": [
       "**Tables:**"
      ],
      "text/plain": [
       "<IPython.core.display.Markdown object>"
      ]
     },
     "metadata": {},
     "output_type": "display_data"
    },
    {
     "data": {
      "text/html": [
       "<div>\n",
       "<style scoped>\n",
       "    .dataframe tbody tr th:only-of-type {\n",
       "        vertical-align: middle;\n",
       "    }\n",
       "\n",
       "    .dataframe tbody tr th {\n",
       "        vertical-align: top;\n",
       "    }\n",
       "\n",
       "    .dataframe thead th {\n",
       "        text-align: right;\n",
       "    }\n",
       "</style>\n",
       "<table border=\"1\" class=\"dataframe\">\n",
       "  <thead>\n",
       "    <tr style=\"text-align: right;\">\n",
       "      <th></th>\n",
       "      <th>0</th>\n",
       "      <th>1</th>\n",
       "      <th>2</th>\n",
       "      <th>3</th>\n",
       "      <th>4</th>\n",
       "    </tr>\n",
       "  </thead>\n",
       "  <tbody>\n",
       "    <tr>\n",
       "      <th>0</th>\n",
       "      <td>7</td>\n",
       "      <td>CLAMPING SCREW</td>\n",
       "      <td>3</td>\n",
       "      <td>BRASS</td>\n",
       "      <td></td>\n",
       "    </tr>\n",
       "    <tr>\n",
       "      <th>1</th>\n",
       "      <td>6</td>\n",
       "      <td>GASKET</td>\n",
       "      <td>1</td>\n",
       "      <td>NEOPRENE</td>\n",
       "      <td></td>\n",
       "    </tr>\n",
       "    <tr>\n",
       "      <th>2</th>\n",
       "      <td>5</td>\n",
       "      <td>LAMP</td>\n",
       "      <td>1</td>\n",
       "      <td></td>\n",
       "      <td></td>\n",
       "    </tr>\n",
       "    <tr>\n",
       "      <th>3</th>\n",
       "      <td>4</td>\n",
       "      <td>LAMP HOLDER</td>\n",
       "      <td>1</td>\n",
       "      <td>PORCELAIN</td>\n",
       "      <td>FE-27</td>\n",
       "    </tr>\n",
       "    <tr>\n",
       "      <th>4</th>\n",
       "      <td>3</td>\n",
       "      <td>GLOBE</td>\n",
       "      <td>1</td>\n",
       "      <td>GLASS</td>\n",
       "      <td>F-90 BLUE</td>\n",
       "    </tr>\n",
       "    <tr>\n",
       "      <th>5</th>\n",
       "      <td>2</td>\n",
       "      <td>GLOBE FRAME</td>\n",
       "      <td>1</td>\n",
       "      <td>POLYCARBONATE</td>\n",
       "      <td></td>\n",
       "    </tr>\n",
       "    <tr>\n",
       "      <th>6</th>\n",
       "      <td>1</td>\n",
       "      <td>BODY</td>\n",
       "      <td>1</td>\n",
       "      <td>POLYCARBONATE</td>\n",
       "      <td></td>\n",
       "    </tr>\n",
       "    <tr>\n",
       "      <th>7</th>\n",
       "      <td>MK</td>\n",
       "      <td>NAME</td>\n",
       "      <td>Q'TY</td>\n",
       "      <td>MATERIAL</td>\n",
       "      <td>NOTE</td>\n",
       "    </tr>\n",
       "  </tbody>\n",
       "</table>\n",
       "</div>"
      ],
      "text/plain": [
       "    0               1     2              3          4\n",
       "0   7  CLAMPING SCREW     3          BRASS           \n",
       "1   6          GASKET     1       NEOPRENE           \n",
       "2   5            LAMP     1                          \n",
       "3   4     LAMP HOLDER     1      PORCELAIN      FE-27\n",
       "4   3           GLOBE     1          GLASS  F-90 BLUE\n",
       "5   2     GLOBE FRAME     1  POLYCARBONATE           \n",
       "6   1            BODY     1  POLYCARBONATE           \n",
       "7  MK            NAME  Q'TY       MATERIAL       NOTE"
      ]
     },
     "metadata": {},
     "output_type": "display_data"
    },
    {
     "data": {
      "text/html": [
       "<div>\n",
       "<style scoped>\n",
       "    .dataframe tbody tr th:only-of-type {\n",
       "        vertical-align: middle;\n",
       "    }\n",
       "\n",
       "    .dataframe tbody tr th {\n",
       "        vertical-align: top;\n",
       "    }\n",
       "\n",
       "    .dataframe thead th {\n",
       "        text-align: right;\n",
       "    }\n",
       "</style>\n",
       "<table border=\"1\" class=\"dataframe\">\n",
       "  <thead>\n",
       "    <tr style=\"text-align: right;\">\n",
       "      <th></th>\n",
       "      <th>0</th>\n",
       "      <th>1</th>\n",
       "      <th>2</th>\n",
       "      <th>3</th>\n",
       "      <th>4</th>\n",
       "    </tr>\n",
       "  </thead>\n",
       "  <tbody>\n",
       "    <tr>\n",
       "      <th>0</th>\n",
       "      <td>14</td>\n",
       "      <td>EARTH</td>\n",
       "      <td>1</td>\n",
       "      <td>BRASS</td>\n",
       "      <td></td>\n",
       "    </tr>\n",
       "    <tr>\n",
       "      <th>1</th>\n",
       "      <td>13</td>\n",
       "      <td>GASKET</td>\n",
       "      <td>1</td>\n",
       "      <td>NEOPRENE</td>\n",
       "      <td></td>\n",
       "    </tr>\n",
       "    <tr>\n",
       "      <th>2</th>\n",
       "      <td>12</td>\n",
       "      <td>COVER</td>\n",
       "      <td>1</td>\n",
       "      <td>BRASS</td>\n",
       "      <td></td>\n",
       "    </tr>\n",
       "    <tr>\n",
       "      <th>3</th>\n",
       "      <td>11</td>\n",
       "      <td>SCREEN</td>\n",
       "      <td>1</td>\n",
       "      <td>ALU.PLATE</td>\n",
       "      <td></td>\n",
       "    </tr>\n",
       "    <tr>\n",
       "      <th>4</th>\n",
       "      <td>10</td>\n",
       "      <td>TERMINAL BLOCK</td>\n",
       "      <td>1</td>\n",
       "      <td>PHENOL RESIN</td>\n",
       "      <td>020-2</td>\n",
       "    </tr>\n",
       "    <tr>\n",
       "      <th>5</th>\n",
       "      <td>9</td>\n",
       "      <td>HINGE PIN</td>\n",
       "      <td>1</td>\n",
       "      <td>BRASS</td>\n",
       "      <td></td>\n",
       "    </tr>\n",
       "    <tr>\n",
       "      <th>6</th>\n",
       "      <td>8</td>\n",
       "      <td>CABLE GLAND</td>\n",
       "      <td>2</td>\n",
       "      <td>RESIN</td>\n",
       "      <td>200</td>\n",
       "    </tr>\n",
       "    <tr>\n",
       "      <th>7</th>\n",
       "      <td>MK</td>\n",
       "      <td>NAME</td>\n",
       "      <td>Q'TY</td>\n",
       "      <td>MATERIAL</td>\n",
       "      <td>NOTE</td>\n",
       "    </tr>\n",
       "  </tbody>\n",
       "</table>\n",
       "</div>"
      ],
      "text/plain": [
       "    0               1     2             3      4\n",
       "0  14           EARTH     1         BRASS       \n",
       "1  13          GASKET     1      NEOPRENE       \n",
       "2  12           COVER     1         BRASS       \n",
       "3  11          SCREEN     1     ALU.PLATE       \n",
       "4  10  TERMINAL BLOCK     1  PHENOL RESIN  020-2\n",
       "5   9       HINGE PIN     1         BRASS       \n",
       "6   8     CABLE GLAND     2         RESIN    200\n",
       "7  MK            NAME  Q'TY      MATERIAL   NOTE"
      ]
     },
     "metadata": {},
     "output_type": "display_data"
    },
    {
     "data": {
      "text/markdown": [
       "---\n",
       "## Extracted Content for Sample2.pdf (Page 4)"
      ],
      "text/plain": [
       "<IPython.core.display.Markdown object>"
      ]
     },
     "metadata": {},
     "output_type": "display_data"
    },
    {
     "data": {
      "text/markdown": [
       "**Headings:**"
      ],
      "text/plain": [
       "<IPython.core.display.Markdown object>"
      ]
     },
     "metadata": {},
     "output_type": "display_data"
    },
    {
     "data": {
      "text/markdown": [
       "- Back to Top Page"
      ],
      "text/plain": [
       "<IPython.core.display.Markdown object>"
      ]
     },
     "metadata": {},
     "output_type": "display_data"
    },
    {
     "data": {
      "text/markdown": [
       "**Paragraphs:**"
      ],
      "text/plain": [
       "<IPython.core.display.Markdown object>"
      ]
     },
     "metadata": {},
     "output_type": "display_data"
    },
    {
     "data": {
      "text/markdown": [
       "_None_"
      ],
      "text/plain": [
       "<IPython.core.display.Markdown object>"
      ]
     },
     "metadata": {},
     "output_type": "display_data"
    },
    {
     "data": {
      "text/markdown": [
       "**Tables:**"
      ],
      "text/plain": [
       "<IPython.core.display.Markdown object>"
      ]
     },
     "metadata": {},
     "output_type": "display_data"
    },
    {
     "data": {
      "text/html": [
       "<div>\n",
       "<style scoped>\n",
       "    .dataframe tbody tr th:only-of-type {\n",
       "        vertical-align: middle;\n",
       "    }\n",
       "\n",
       "    .dataframe tbody tr th {\n",
       "        vertical-align: top;\n",
       "    }\n",
       "\n",
       "    .dataframe thead th {\n",
       "        text-align: right;\n",
       "    }\n",
       "</style>\n",
       "<table border=\"1\" class=\"dataframe\">\n",
       "  <thead>\n",
       "    <tr style=\"text-align: right;\">\n",
       "      <th></th>\n",
       "      <th>0</th>\n",
       "      <th>1</th>\n",
       "      <th>2</th>\n",
       "      <th>3</th>\n",
       "    </tr>\n",
       "  </thead>\n",
       "  <tbody>\n",
       "    <tr>\n",
       "      <th>0</th>\n",
       "      <td>SHIP NO.</td>\n",
       "      <td>SPARE PARTS LIST FOR</td>\n",
       "      <td>USE</td>\n",
       "      <td>SETS PER VESSEL</td>\n",
       "    </tr>\n",
       "    <tr>\n",
       "      <th>1</th>\n",
       "      <td>487/489/490</td>\n",
       "      <td></td>\n",
       "      <td>STEERING LIGHT</td>\n",
       "      <td></td>\n",
       "    </tr>\n",
       "  </tbody>\n",
       "</table>\n",
       "</div>"
      ],
      "text/plain": [
       "             0                     1               2                3\n",
       "0     SHIP NO.  SPARE PARTS LIST FOR             USE  SETS PER VESSEL\n",
       "1  487/489/490                        STEERING LIGHT                 "
      ]
     },
     "metadata": {},
     "output_type": "display_data"
    },
    {
     "data": {
      "text/html": [
       "<div>\n",
       "<style scoped>\n",
       "    .dataframe tbody tr th:only-of-type {\n",
       "        vertical-align: middle;\n",
       "    }\n",
       "\n",
       "    .dataframe tbody tr th {\n",
       "        vertical-align: top;\n",
       "    }\n",
       "\n",
       "    .dataframe thead th {\n",
       "        text-align: right;\n",
       "    }\n",
       "</style>\n",
       "<table border=\"1\" class=\"dataframe\">\n",
       "  <thead>\n",
       "    <tr style=\"text-align: right;\">\n",
       "      <th></th>\n",
       "      <th>0</th>\n",
       "      <th>1</th>\n",
       "      <th>2</th>\n",
       "      <th>3</th>\n",
       "      <th>4</th>\n",
       "      <th>5</th>\n",
       "      <th>6</th>\n",
       "    </tr>\n",
       "  </thead>\n",
       "  <tbody>\n",
       "    <tr>\n",
       "      <th>0</th>\n",
       "      <td></td>\n",
       "      <td></td>\n",
       "      <td></td>\n",
       "      <td></td>\n",
       "      <td>QUANTITY</td>\n",
       "      <td></td>\n",
       "      <td>REMARKS</td>\n",
       "    </tr>\n",
       "    <tr>\n",
       "      <th>1</th>\n",
       "      <td>ITEM</td>\n",
       "      <td>NAME</td>\n",
       "      <td>OUT LINE</td>\n",
       "      <td></td>\n",
       "      <td>WORKING</td>\n",
       "      <td></td>\n",
       "      <td></td>\n",
       "    </tr>\n",
       "    <tr>\n",
       "      <th>2</th>\n",
       "      <td>NO.</td>\n",
       "      <td>OF PART</td>\n",
       "      <td></td>\n",
       "      <td>PER SET</td>\n",
       "      <td>PER VESS.</td>\n",
       "      <td>SPARE</td>\n",
       "      <td></td>\n",
       "    </tr>\n",
       "    <tr>\n",
       "      <th>3</th>\n",
       "      <td>1</td>\n",
       "      <td>GLOBE</td>\n",
       "      <td>50 150</td>\n",
       "      <td></td>\n",
       "      <td>1</td>\n",
       "      <td>1</td>\n",
       "      <td>BLUE</td>\n",
       "    </tr>\n",
       "    <tr>\n",
       "      <th>4</th>\n",
       "      <td>2</td>\n",
       "      <td>LAMP HOLDER</td>\n",
       "      <td>® :</td>\n",
       "      <td></td>\n",
       "      <td>1</td>\n",
       "      <td>1</td>\n",
       "      <td>FE-27</td>\n",
       "    </tr>\n",
       "    <tr>\n",
       "      <th>5</th>\n",
       "      <td>3</td>\n",
       "      <td>BULB</td>\n",
       "      <td>220V 40W E-26</td>\n",
       "      <td></td>\n",
       "      <td>1</td>\n",
       "      <td>1</td>\n",
       "      <td></td>\n",
       "    </tr>\n",
       "    <tr>\n",
       "      <th>6</th>\n",
       "      <td></td>\n",
       "      <td></td>\n",
       "      <td></td>\n",
       "      <td></td>\n",
       "      <td></td>\n",
       "      <td></td>\n",
       "      <td></td>\n",
       "    </tr>\n",
       "    <tr>\n",
       "      <th>7</th>\n",
       "      <td></td>\n",
       "      <td></td>\n",
       "      <td></td>\n",
       "      <td></td>\n",
       "      <td></td>\n",
       "      <td></td>\n",
       "      <td></td>\n",
       "    </tr>\n",
       "    <tr>\n",
       "      <th>8</th>\n",
       "      <td></td>\n",
       "      <td></td>\n",
       "      <td></td>\n",
       "      <td></td>\n",
       "      <td></td>\n",
       "      <td></td>\n",
       "      <td></td>\n",
       "    </tr>\n",
       "    <tr>\n",
       "      <th>9</th>\n",
       "      <td></td>\n",
       "      <td></td>\n",
       "      <td></td>\n",
       "      <td></td>\n",
       "      <td></td>\n",
       "      <td></td>\n",
       "      <td></td>\n",
       "    </tr>\n",
       "    <tr>\n",
       "      <th>10</th>\n",
       "      <td></td>\n",
       "      <td></td>\n",
       "      <td></td>\n",
       "      <td></td>\n",
       "      <td></td>\n",
       "      <td></td>\n",
       "      <td></td>\n",
       "    </tr>\n",
       "    <tr>\n",
       "      <th>11</th>\n",
       "      <td></td>\n",
       "      <td></td>\n",
       "      <td></td>\n",
       "      <td></td>\n",
       "      <td></td>\n",
       "      <td></td>\n",
       "      <td></td>\n",
       "    </tr>\n",
       "    <tr>\n",
       "      <th>12</th>\n",
       "      <td></td>\n",
       "      <td></td>\n",
       "      <td></td>\n",
       "      <td></td>\n",
       "      <td></td>\n",
       "      <td></td>\n",
       "      <td></td>\n",
       "    </tr>\n",
       "    <tr>\n",
       "      <th>13</th>\n",
       "      <td>MFR.S</td>\n",
       "      <td>NAME</td>\n",
       "      <td>TOYO &amp; ENGINEERING CORP</td>\n",
       "      <td></td>\n",
       "      <td>DRAW.NO.</td>\n",
       "      <td></td>\n",
       "      <td></td>\n",
       "    </tr>\n",
       "  </tbody>\n",
       "</table>\n",
       "</div>"
      ],
      "text/plain": [
       "        0            1                        2        3          4      5  \\\n",
       "0                                                          QUANTITY          \n",
       "1    ITEM         NAME                 OUT LINE             WORKING          \n",
       "2     NO.      OF PART                           PER SET  PER VESS.  SPARE   \n",
       "3       1        GLOBE                   50 150                   1      1   \n",
       "4       2  LAMP HOLDER                      ® :                   1      1   \n",
       "5       3         BULB            220V 40W E-26                   1      1   \n",
       "6                                                                            \n",
       "7                                                                            \n",
       "8                                                                            \n",
       "9                                                                            \n",
       "10                                                                           \n",
       "11                                                                           \n",
       "12                                                                           \n",
       "13  MFR.S         NAME  TOYO & ENGINEERING CORP            DRAW.NO.          \n",
       "\n",
       "          6  \n",
       "0   REMARKS  \n",
       "1            \n",
       "2            \n",
       "3      BLUE  \n",
       "4     FE-27  \n",
       "5            \n",
       "6            \n",
       "7            \n",
       "8            \n",
       "9            \n",
       "10           \n",
       "11           \n",
       "12           \n",
       "13           "
      ]
     },
     "metadata": {},
     "output_type": "display_data"
    },
    {
     "data": {
      "text/markdown": [
       "---\n",
       "## Extracted Content for SAMPLE3.pdf (Page 1)"
      ],
      "text/plain": [
       "<IPython.core.display.Markdown object>"
      ]
     },
     "metadata": {},
     "output_type": "display_data"
    },
    {
     "data": {
      "text/markdown": [
       "**Headings:**"
      ],
      "text/plain": [
       "<IPython.core.display.Markdown object>"
      ]
     },
     "metadata": {},
     "output_type": "display_data"
    },
    {
     "data": {
      "text/markdown": [
       "- S489"
      ],
      "text/plain": [
       "<IPython.core.display.Markdown object>"
      ]
     },
     "metadata": {},
     "output_type": "display_data"
    },
    {
     "data": {
      "text/markdown": [
       "- HULL PART"
      ],
      "text/plain": [
       "<IPython.core.display.Markdown object>"
      ]
     },
     "metadata": {},
     "output_type": "display_data"
    },
    {
     "data": {
      "text/markdown": [
       "**Paragraphs:**"
      ],
      "text/plain": [
       "<IPython.core.display.Markdown object>"
      ]
     },
     "metadata": {},
     "output_type": "display_data"
    },
    {
     "data": {
      "text/markdown": [
       "_None_"
      ],
      "text/plain": [
       "<IPython.core.display.Markdown object>"
      ]
     },
     "metadata": {},
     "output_type": "display_data"
    },
    {
     "data": {
      "text/markdown": [
       "**Tables:**"
      ],
      "text/plain": [
       "<IPython.core.display.Markdown object>"
      ]
     },
     "metadata": {},
     "output_type": "display_data"
    },
    {
     "data": {
      "text/html": [
       "<div>\n",
       "<style scoped>\n",
       "    .dataframe tbody tr th:only-of-type {\n",
       "        vertical-align: middle;\n",
       "    }\n",
       "\n",
       "    .dataframe tbody tr th {\n",
       "        vertical-align: top;\n",
       "    }\n",
       "\n",
       "    .dataframe thead th {\n",
       "        text-align: right;\n",
       "    }\n",
       "</style>\n",
       "<table border=\"1\" class=\"dataframe\">\n",
       "  <thead>\n",
       "    <tr style=\"text-align: right;\">\n",
       "      <th></th>\n",
       "      <th>0</th>\n",
       "      <th>1</th>\n",
       "    </tr>\n",
       "  </thead>\n",
       "  <tbody>\n",
       "    <tr>\n",
       "      <th>0</th>\n",
       "      <td>HA 1 D-2-012(1)</td>\n",
       "      <td>LIST OF FINISHED PLAN (HULL PART)</td>\n",
       "    </tr>\n",
       "    <tr>\n",
       "      <th>1</th>\n",
       "      <td>HA 2 D-2-001</td>\n",
       "      <td>GENERAL ARRANGEMENT</td>\n",
       "    </tr>\n",
       "    <tr>\n",
       "      <th>2</th>\n",
       "      <td>HA 3 D-2-002</td>\n",
       "      <td>PRINCIPAL PARTICULARS (HULL PART)</td>\n",
       "    </tr>\n",
       "    <tr>\n",
       "      <th>3</th>\n",
       "      <td>HA 4 D-2-003</td>\n",
       "      <td>SPECIFICATIONS (GENERAL &amp; HULL PART)</td>\n",
       "    </tr>\n",
       "    <tr>\n",
       "      <th>4</th>\n",
       "      <td>HA 5 D-2-005</td>\n",
       "      <td>HYDROSTATIC TABLE</td>\n",
       "    </tr>\n",
       "    <tr>\n",
       "      <th>5</th>\n",
       "      <td>HA 6 D-2-006</td>\n",
       "      <td>CAPACITY PLAN WITH DEADWEIGHT SCALE</td>\n",
       "    </tr>\n",
       "    <tr>\n",
       "      <th>6</th>\n",
       "      <td>HA 7 D-2-007(1/2)</td>\n",
       "      <td>STABILITY &amp; LOADING MANUAL (1/2) CAPT TASOB</td>\n",
       "    </tr>\n",
       "    <tr>\n",
       "      <th>7</th>\n",
       "      <td>D-2-007(2/2)</td>\n",
       "      <td>STABILITY &amp; LOADING MANUAL (2/2)</td>\n",
       "    </tr>\n",
       "    <tr>\n",
       "      <th>8</th>\n",
       "      <td>HA 8 D-2-013(1)</td>\n",
       "      <td>TANK TABLE (FOR WATER BALLAST TANKS)</td>\n",
       "    </tr>\n",
       "    <tr>\n",
       "      <th>9</th>\n",
       "      <td>HA 9 D-2-013(2)</td>\n",
       "      <td>TANK TABLE (FOR BUNKER TANKS &amp; MISCELLANEOUS T...</td>\n",
       "    </tr>\n",
       "    <tr>\n",
       "      <th>10</th>\n",
       "      <td>HA10 D-2-014</td>\n",
       "      <td>DAMAGE CONTROL PLAN</td>\n",
       "    </tr>\n",
       "    <tr>\n",
       "      <th>11</th>\n",
       "      <td>HA11 D-2-026</td>\n",
       "      <td>RESULT OF LIGHT WEIGHT MEASUREMENT</td>\n",
       "    </tr>\n",
       "    <tr>\n",
       "      <th>12</th>\n",
       "      <td>HA12 D-2-027</td>\n",
       "      <td>RESULT OF SEA TRIAL (HULL PART)</td>\n",
       "    </tr>\n",
       "  </tbody>\n",
       "</table>\n",
       "</div>"
      ],
      "text/plain": [
       "                    0                                                  1\n",
       "0     HA 1 D-2-012(1)                  LIST OF FINISHED PLAN (HULL PART)\n",
       "1        HA 2 D-2-001                                GENERAL ARRANGEMENT\n",
       "2        HA 3 D-2-002                  PRINCIPAL PARTICULARS (HULL PART)\n",
       "3        HA 4 D-2-003               SPECIFICATIONS (GENERAL & HULL PART)\n",
       "4        HA 5 D-2-005                                  HYDROSTATIC TABLE\n",
       "5        HA 6 D-2-006                CAPACITY PLAN WITH DEADWEIGHT SCALE\n",
       "6   HA 7 D-2-007(1/2)        STABILITY & LOADING MANUAL (1/2) CAPT TASOB\n",
       "7        D-2-007(2/2)                   STABILITY & LOADING MANUAL (2/2)\n",
       "8     HA 8 D-2-013(1)               TANK TABLE (FOR WATER BALLAST TANKS)\n",
       "9     HA 9 D-2-013(2)  TANK TABLE (FOR BUNKER TANKS & MISCELLANEOUS T...\n",
       "10       HA10 D-2-014                                DAMAGE CONTROL PLAN\n",
       "11       HA11 D-2-026                 RESULT OF LIGHT WEIGHT MEASUREMENT\n",
       "12       HA12 D-2-027                    RESULT OF SEA TRIAL (HULL PART)"
      ]
     },
     "metadata": {},
     "output_type": "display_data"
    },
    {
     "data": {
      "text/markdown": [
       "---\n",
       "## Extracted Content for SAMPLE3.pdf (Page 2)"
      ],
      "text/plain": [
       "<IPython.core.display.Markdown object>"
      ]
     },
     "metadata": {},
     "output_type": "display_data"
    },
    {
     "data": {
      "text/markdown": [
       "**Headings:**"
      ],
      "text/plain": [
       "<IPython.core.display.Markdown object>"
      ]
     },
     "metadata": {},
     "output_type": "display_data"
    },
    {
     "data": {
      "text/markdown": [
       "- S489"
      ],
      "text/plain": [
       "<IPython.core.display.Markdown object>"
      ]
     },
     "metadata": {},
     "output_type": "display_data"
    },
    {
     "data": {
      "text/markdown": [
       "- HULL PART"
      ],
      "text/plain": [
       "<IPython.core.display.Markdown object>"
      ]
     },
     "metadata": {},
     "output_type": "display_data"
    },
    {
     "data": {
      "text/markdown": [
       "**Paragraphs:**"
      ],
      "text/plain": [
       "<IPython.core.display.Markdown object>"
      ]
     },
     "metadata": {},
     "output_type": "display_data"
    },
    {
     "data": {
      "text/markdown": [
       "1. HA. GENERAL HA13 D-2-027(2) HA14 D-2-029(2) HA15 D-2-031 HA16 D-2-034 HA17 D-2-034(2) HA18 D-2-041 HA19 D-2-042 HA20 D-2-043 HA21 D-2-048"
      ],
      "text/plain": [
       "<IPython.core.display.Markdown object>"
      ]
     },
     "metadata": {},
     "output_type": "display_data"
    },
    {
     "data": {
      "text/markdown": [
       "2. ANALYSIS OF SPEED TEST FREEBOARD MARK MANEUVERING PARTICULARS VISIBILITY FROM WHEELHOUSE NAVIGATION BRIDGE VISIBILITY FOR PANAMA CANAL TRANSIT BOOKLET FOR DAMAGE CONTROL WHEELHOUSE POSTER PILOT CARD SOUNDING TABLE FOR BILGE WELL IN CARGO HOLD"
      ],
      "text/plain": [
       "<IPython.core.display.Markdown object>"
      ]
     },
     "metadata": {},
     "output_type": "display_data"
    },
    {
     "data": {
      "text/markdown": [
       "**Tables:**"
      ],
      "text/plain": [
       "<IPython.core.display.Markdown object>"
      ]
     },
     "metadata": {},
     "output_type": "display_data"
    },
    {
     "data": {
      "text/html": [
       "<div>\n",
       "<style scoped>\n",
       "    .dataframe tbody tr th:only-of-type {\n",
       "        vertical-align: middle;\n",
       "    }\n",
       "\n",
       "    .dataframe tbody tr th {\n",
       "        vertical-align: top;\n",
       "    }\n",
       "\n",
       "    .dataframe thead th {\n",
       "        text-align: right;\n",
       "    }\n",
       "</style>\n",
       "<table border=\"1\" class=\"dataframe\">\n",
       "  <thead>\n",
       "    <tr style=\"text-align: right;\">\n",
       "      <th></th>\n",
       "      <th>0</th>\n",
       "      <th>1</th>\n",
       "    </tr>\n",
       "  </thead>\n",
       "  <tbody>\n",
       "    <tr>\n",
       "      <th>0</th>\n",
       "      <td>HA. GENERAL</td>\n",
       "      <td></td>\n",
       "    </tr>\n",
       "    <tr>\n",
       "      <th>1</th>\n",
       "      <td>HA13 D-2-027(2)</td>\n",
       "      <td>ANALYSIS OF SPEED TEST</td>\n",
       "    </tr>\n",
       "    <tr>\n",
       "      <th>2</th>\n",
       "      <td>HA14 D-2-029(2)</td>\n",
       "      <td>FREEBOARD MARK</td>\n",
       "    </tr>\n",
       "    <tr>\n",
       "      <th>3</th>\n",
       "      <td>HA15 D-2-031</td>\n",
       "      <td>MANEUVERING PARTICULARS</td>\n",
       "    </tr>\n",
       "    <tr>\n",
       "      <th>4</th>\n",
       "      <td>HA16 D-2-034</td>\n",
       "      <td>VISIBILITY FROM WHEELHOUSE</td>\n",
       "    </tr>\n",
       "    <tr>\n",
       "      <th>5</th>\n",
       "      <td>HA17 D-2-034(2)</td>\n",
       "      <td>NAVIGATION BRIDGE VISIBILITY FOR PANAMA CANAL ...</td>\n",
       "    </tr>\n",
       "    <tr>\n",
       "      <th>6</th>\n",
       "      <td>HA18 D-2-041</td>\n",
       "      <td>BOOKLET FOR DAMAGE CONTROL</td>\n",
       "    </tr>\n",
       "    <tr>\n",
       "      <th>7</th>\n",
       "      <td>HA19 D-2-042</td>\n",
       "      <td>WHEELHOUSE POSTER CAPY TASOB</td>\n",
       "    </tr>\n",
       "    <tr>\n",
       "      <th>8</th>\n",
       "      <td>HA20 D-2-043</td>\n",
       "      <td>PILOT CARD</td>\n",
       "    </tr>\n",
       "    <tr>\n",
       "      <th>9</th>\n",
       "      <td>HA21 D-2-048</td>\n",
       "      <td>SOUNDING TABLE FOR BILGE WELL IN CARGO HOLD</td>\n",
       "    </tr>\n",
       "  </tbody>\n",
       "</table>\n",
       "</div>"
      ],
      "text/plain": [
       "                 0                                                  1\n",
       "0      HA. GENERAL                                                   \n",
       "1  HA13 D-2-027(2)                             ANALYSIS OF SPEED TEST\n",
       "2  HA14 D-2-029(2)                                     FREEBOARD MARK\n",
       "3     HA15 D-2-031                            MANEUVERING PARTICULARS\n",
       "4     HA16 D-2-034                         VISIBILITY FROM WHEELHOUSE\n",
       "5  HA17 D-2-034(2)  NAVIGATION BRIDGE VISIBILITY FOR PANAMA CANAL ...\n",
       "6     HA18 D-2-041                         BOOKLET FOR DAMAGE CONTROL\n",
       "7     HA19 D-2-042                       WHEELHOUSE POSTER CAPY TASOB\n",
       "8     HA20 D-2-043                                         PILOT CARD\n",
       "9     HA21 D-2-048        SOUNDING TABLE FOR BILGE WELL IN CARGO HOLD"
      ]
     },
     "metadata": {},
     "output_type": "display_data"
    },
    {
     "data": {
      "text/markdown": [
       "---\n",
       "## Extracted Content for SAMPLE3.pdf (Page 3)"
      ],
      "text/plain": [
       "<IPython.core.display.Markdown object>"
      ]
     },
     "metadata": {},
     "output_type": "display_data"
    },
    {
     "data": {
      "text/markdown": [
       "**Headings:**"
      ],
      "text/plain": [
       "<IPython.core.display.Markdown object>"
      ]
     },
     "metadata": {},
     "output_type": "display_data"
    },
    {
     "data": {
      "text/markdown": [
       "- S489"
      ],
      "text/plain": [
       "<IPython.core.display.Markdown object>"
      ]
     },
     "metadata": {},
     "output_type": "display_data"
    },
    {
     "data": {
      "text/markdown": [
       "- HULL PART"
      ],
      "text/plain": [
       "<IPython.core.display.Markdown object>"
      ]
     },
     "metadata": {},
     "output_type": "display_data"
    },
    {
     "data": {
      "text/markdown": [
       "**Paragraphs:**"
      ],
      "text/plain": [
       "<IPython.core.display.Markdown object>"
      ]
     },
     "metadata": {},
     "output_type": "display_data"
    },
    {
     "data": {
      "text/markdown": [
       "1. HB. HULL CONSTRUCTION HB 1 H-1-101 MIDSHIP SECTION HB 2 H-1-102 CONSTRUCTION PROFILE & DECK PLAN (1) HB 3 H-1-103 SHELL EXPANSION & FRAMING PLAN HB 4 H-1-104 CONSTRUCTION PROFILE & DECK PLAN (2) HB 5 H-1-201 BOTTOM PLUG ARRANGEMENT HB 6 H-1-202 ALUMI. ANODE ARRANGEMENT HB 7 H-1-220 DOUBLE BOTTOM IN ENGINE ROOM HB 8 H-1-221 ENGINE ROOM CONSTRUCTION HB 9 H-1-230 HOLD CONSTRUCTION (AFT) HB10 H-1-231 HOLD CONSTRUCTION (MID) HB11 H-1-232 HOLD CONSTRUCTION (FORE) HB12 H-1-240 HATCH COAMING CONSTRUCTION HB13 H-1-250 STERN FRAME CONSTRUCTION HB14 H.1.251 RUDDER & RUDDER STOCK"
      ],
      "text/plain": [
       "<IPython.core.display.Markdown object>"
      ]
     },
     "metadata": {},
     "output_type": "display_data"
    },
    {
     "data": {
      "text/markdown": [
       "**Tables:**"
      ],
      "text/plain": [
       "<IPython.core.display.Markdown object>"
      ]
     },
     "metadata": {},
     "output_type": "display_data"
    },
    {
     "data": {
      "text/html": [
       "<div>\n",
       "<style scoped>\n",
       "    .dataframe tbody tr th:only-of-type {\n",
       "        vertical-align: middle;\n",
       "    }\n",
       "\n",
       "    .dataframe tbody tr th {\n",
       "        vertical-align: top;\n",
       "    }\n",
       "\n",
       "    .dataframe thead th {\n",
       "        text-align: right;\n",
       "    }\n",
       "</style>\n",
       "<table border=\"1\" class=\"dataframe\">\n",
       "  <thead>\n",
       "    <tr style=\"text-align: right;\">\n",
       "      <th></th>\n",
       "      <th>0</th>\n",
       "      <th>1</th>\n",
       "    </tr>\n",
       "  </thead>\n",
       "  <tbody>\n",
       "    <tr>\n",
       "      <th>0</th>\n",
       "      <td>HB 1 H-1-101</td>\n",
       "      <td>MIDSHIP SECTION</td>\n",
       "    </tr>\n",
       "    <tr>\n",
       "      <th>1</th>\n",
       "      <td>HB 2 H-1-102</td>\n",
       "      <td>CONSTRUCTION PROFILE &amp; DECK PLAN (1)</td>\n",
       "    </tr>\n",
       "    <tr>\n",
       "      <th>2</th>\n",
       "      <td>HB 3 H-1-103</td>\n",
       "      <td>SHELL EXPANSION &amp; FRAMING PLAN</td>\n",
       "    </tr>\n",
       "    <tr>\n",
       "      <th>3</th>\n",
       "      <td>HB 4 H-1-104</td>\n",
       "      <td>CONSTRUCTION PROFILE &amp; DECK PLAN (2)</td>\n",
       "    </tr>\n",
       "    <tr>\n",
       "      <th>4</th>\n",
       "      <td>HB 5 H-1-201</td>\n",
       "      <td>BOTTOM PLUG ARRANGEMENT</td>\n",
       "    </tr>\n",
       "    <tr>\n",
       "      <th>5</th>\n",
       "      <td>HB 6 H-1-202</td>\n",
       "      <td>ALUMI. ANODE ARRANGEMENT</td>\n",
       "    </tr>\n",
       "    <tr>\n",
       "      <th>6</th>\n",
       "      <td>HB 7 H-1-220</td>\n",
       "      <td>DOUBLE BOTTOM IN ENGINE ROOM</td>\n",
       "    </tr>\n",
       "    <tr>\n",
       "      <th>7</th>\n",
       "      <td>HB 8 H-1-221</td>\n",
       "      <td>ENGINE ROOM CONSTRUCTION</td>\n",
       "    </tr>\n",
       "    <tr>\n",
       "      <th>8</th>\n",
       "      <td>HB 9 H-1-230</td>\n",
       "      <td>HOLD CONSTRUCTION (AFT)</td>\n",
       "    </tr>\n",
       "    <tr>\n",
       "      <th>9</th>\n",
       "      <td>HB10 H-1-231</td>\n",
       "      <td>HOLD CONSTRUCTION (MID)</td>\n",
       "    </tr>\n",
       "    <tr>\n",
       "      <th>10</th>\n",
       "      <td>HB11 H-1-232</td>\n",
       "      <td>HOLD CONSTRUCTION (FORE)</td>\n",
       "    </tr>\n",
       "    <tr>\n",
       "      <th>11</th>\n",
       "      <td>HB12 H-1-240</td>\n",
       "      <td>HATCH COAMING CONSTRUCTION</td>\n",
       "    </tr>\n",
       "    <tr>\n",
       "      <th>12</th>\n",
       "      <td>HB13 H-1-250</td>\n",
       "      <td>STERN FRAME CONSTRUCTION</td>\n",
       "    </tr>\n",
       "    <tr>\n",
       "      <th>13</th>\n",
       "      <td></td>\n",
       "      <td></td>\n",
       "    </tr>\n",
       "  </tbody>\n",
       "</table>\n",
       "</div>"
      ],
      "text/plain": [
       "               0                                     1\n",
       "0   HB 1 H-1-101                       MIDSHIP SECTION\n",
       "1   HB 2 H-1-102  CONSTRUCTION PROFILE & DECK PLAN (1)\n",
       "2   HB 3 H-1-103        SHELL EXPANSION & FRAMING PLAN\n",
       "3   HB 4 H-1-104  CONSTRUCTION PROFILE & DECK PLAN (2)\n",
       "4   HB 5 H-1-201               BOTTOM PLUG ARRANGEMENT\n",
       "5   HB 6 H-1-202              ALUMI. ANODE ARRANGEMENT\n",
       "6   HB 7 H-1-220          DOUBLE BOTTOM IN ENGINE ROOM\n",
       "7   HB 8 H-1-221              ENGINE ROOM CONSTRUCTION\n",
       "8   HB 9 H-1-230               HOLD CONSTRUCTION (AFT)\n",
       "9   HB10 H-1-231               HOLD CONSTRUCTION (MID)\n",
       "10  HB11 H-1-232              HOLD CONSTRUCTION (FORE)\n",
       "11  HB12 H-1-240            HATCH COAMING CONSTRUCTION\n",
       "12  HB13 H-1-250              STERN FRAME CONSTRUCTION\n",
       "13                                                    "
      ]
     },
     "metadata": {},
     "output_type": "display_data"
    },
    {
     "data": {
      "text/markdown": [
       "---\n",
       "## Extracted Content for SAMPLE3.pdf (Page 4)"
      ],
      "text/plain": [
       "<IPython.core.display.Markdown object>"
      ]
     },
     "metadata": {},
     "output_type": "display_data"
    },
    {
     "data": {
      "text/markdown": [
       "**Headings:**"
      ],
      "text/plain": [
       "<IPython.core.display.Markdown object>"
      ]
     },
     "metadata": {},
     "output_type": "display_data"
    },
    {
     "data": {
      "text/markdown": [
       "- S489"
      ],
      "text/plain": [
       "<IPython.core.display.Markdown object>"
      ]
     },
     "metadata": {},
     "output_type": "display_data"
    },
    {
     "data": {
      "text/markdown": [
       "- HULL PART"
      ],
      "text/plain": [
       "<IPython.core.display.Markdown object>"
      ]
     },
     "metadata": {},
     "output_type": "display_data"
    },
    {
     "data": {
      "text/markdown": [
       "**Paragraphs:**"
      ],
      "text/plain": [
       "<IPython.core.display.Markdown object>"
      ]
     },
     "metadata": {},
     "output_type": "display_data"
    },
    {
     "data": {
      "text/markdown": [
       "1. HB. HULL CONSTRUCTION HB15 H-1-255 NCF CONSTRUCTION (INCLUDING FLAT FIN) HB16 H-1-256 NAPS CONSTRUCTION HB17 H-1-260 STERN CONSTRUCTION HB18 H-1-270 BOW CONSTRUCTION HB19 H-1-281 A & B DECK HOUSE CONSTRUCTION HB20 H-1-282 C & D DECK HOUSE CONSTRUCTION HB21 H-1-283 E, NAV. BRI. & COMP. BRI. DECK HOUSE CONSTRUCTION HB22 H-1-285 CASING CONSTRUCTION HB23 H-1-286 FUNNEL CONSTRUCTION HB24 H-1-287 DECK STORE CONSTRUCTION HB25 H-1-611 SEAT OF STEERING GEAR H-1-660 GENERATOR SEAT HB27 H-1-661 SEAT OF SHAFT BEARING HB28 H-2-290 DOCKING PLAN HB29 H-2-292 RESULT OF LOCAL VIBRATION MEASUREMENT AT SEA TRIAL HB30 H-2-490 RENEWAL THICKNESS PLAN"
      ],
      "text/plain": [
       "<IPython.core.display.Markdown object>"
      ]
     },
     "metadata": {},
     "output_type": "display_data"
    },
    {
     "data": {
      "text/markdown": [
       "2. HB26 HB27 H-1-661 SEAT OF SHAFT BEARING HB28 H-2-290 DOCKING PLAN HB29 H-2-292 RESULT OF LOCAL VIBRATION MEASUREMENT AT SEA TRIAL HB30 H-2-490 RENEWAL THICKNESS PLAN"
      ],
      "text/plain": [
       "<IPython.core.display.Markdown object>"
      ]
     },
     "metadata": {},
     "output_type": "display_data"
    },
    {
     "data": {
      "text/markdown": [
       "**Tables:**"
      ],
      "text/plain": [
       "<IPython.core.display.Markdown object>"
      ]
     },
     "metadata": {},
     "output_type": "display_data"
    },
    {
     "data": {
      "text/html": [
       "<div>\n",
       "<style scoped>\n",
       "    .dataframe tbody tr th:only-of-type {\n",
       "        vertical-align: middle;\n",
       "    }\n",
       "\n",
       "    .dataframe tbody tr th {\n",
       "        vertical-align: top;\n",
       "    }\n",
       "\n",
       "    .dataframe thead th {\n",
       "        text-align: right;\n",
       "    }\n",
       "</style>\n",
       "<table border=\"1\" class=\"dataframe\">\n",
       "  <thead>\n",
       "    <tr style=\"text-align: right;\">\n",
       "      <th></th>\n",
       "      <th>0</th>\n",
       "      <th>1</th>\n",
       "    </tr>\n",
       "  </thead>\n",
       "  <tbody>\n",
       "    <tr>\n",
       "      <th>0</th>\n",
       "      <td>HB15 H-1-255</td>\n",
       "      <td>NCF CONSTRUCTION (INCLUDING FLAT FIN)</td>\n",
       "    </tr>\n",
       "    <tr>\n",
       "      <th>1</th>\n",
       "      <td>HB16 H-1-256</td>\n",
       "      <td>NAPS CONSTRUCTION</td>\n",
       "    </tr>\n",
       "    <tr>\n",
       "      <th>2</th>\n",
       "      <td>HB17 H-1-260</td>\n",
       "      <td>STERN CONSTRUCTION</td>\n",
       "    </tr>\n",
       "    <tr>\n",
       "      <th>3</th>\n",
       "      <td>HB18 H-1-270</td>\n",
       "      <td>BOW CONSTRUCTION</td>\n",
       "    </tr>\n",
       "    <tr>\n",
       "      <th>4</th>\n",
       "      <td>HB19 H-1-281</td>\n",
       "      <td>A &amp; B DECK HOUSE CONSTRUCTION</td>\n",
       "    </tr>\n",
       "    <tr>\n",
       "      <th>5</th>\n",
       "      <td>HB20 H-1-282</td>\n",
       "      <td>C &amp; D DECK HOUSE CONSTRUCTION</td>\n",
       "    </tr>\n",
       "    <tr>\n",
       "      <th>6</th>\n",
       "      <td>HB21 H-1-283</td>\n",
       "      <td>E, NAV. BRI. &amp; COMP. BRI. DECK HOUSE CONSTRUCTION</td>\n",
       "    </tr>\n",
       "    <tr>\n",
       "      <th>7</th>\n",
       "      <td>HB22 H-1-285</td>\n",
       "      <td>CASING CONSTRUCTION</td>\n",
       "    </tr>\n",
       "    <tr>\n",
       "      <th>8</th>\n",
       "      <td>HB23 H-1-286</td>\n",
       "      <td>FUNNEL CONSTRUCTION</td>\n",
       "    </tr>\n",
       "    <tr>\n",
       "      <th>9</th>\n",
       "      <td>HB24 H-1-287</td>\n",
       "      <td>DECK STORE CONSTRUCTION</td>\n",
       "    </tr>\n",
       "    <tr>\n",
       "      <th>10</th>\n",
       "      <td>HB25 H-1-611</td>\n",
       "      <td>SEAT OF STEERING GEAR</td>\n",
       "    </tr>\n",
       "    <tr>\n",
       "      <th>11</th>\n",
       "      <td>HB26 H-1-660</td>\n",
       "      <td>GENERATOR SEAT</td>\n",
       "    </tr>\n",
       "    <tr>\n",
       "      <th>12</th>\n",
       "      <td>HB27 H-1-661</td>\n",
       "      <td>SEAT OF SHAFT BEARING</td>\n",
       "    </tr>\n",
       "    <tr>\n",
       "      <th>13</th>\n",
       "      <td>HB28 H-2-290</td>\n",
       "      <td>DOCKING PLAN</td>\n",
       "    </tr>\n",
       "    <tr>\n",
       "      <th>14</th>\n",
       "      <td>HB29 H-2-292</td>\n",
       "      <td>RESULT OF LOCAL VIBRATION MEASUREMENT AT SEA T...</td>\n",
       "    </tr>\n",
       "    <tr>\n",
       "      <th>15</th>\n",
       "      <td>HB30 H-2-490</td>\n",
       "      <td>RENEWAL THICKNESS PLAN</td>\n",
       "    </tr>\n",
       "  </tbody>\n",
       "</table>\n",
       "</div>"
      ],
      "text/plain": [
       "               0                                                  1\n",
       "0   HB15 H-1-255              NCF CONSTRUCTION (INCLUDING FLAT FIN)\n",
       "1   HB16 H-1-256                                  NAPS CONSTRUCTION\n",
       "2   HB17 H-1-260                                 STERN CONSTRUCTION\n",
       "3   HB18 H-1-270                                   BOW CONSTRUCTION\n",
       "4   HB19 H-1-281                      A & B DECK HOUSE CONSTRUCTION\n",
       "5   HB20 H-1-282                      C & D DECK HOUSE CONSTRUCTION\n",
       "6   HB21 H-1-283  E, NAV. BRI. & COMP. BRI. DECK HOUSE CONSTRUCTION\n",
       "7   HB22 H-1-285                                CASING CONSTRUCTION\n",
       "8   HB23 H-1-286                                FUNNEL CONSTRUCTION\n",
       "9   HB24 H-1-287                            DECK STORE CONSTRUCTION\n",
       "10  HB25 H-1-611                              SEAT OF STEERING GEAR\n",
       "11  HB26 H-1-660                                     GENERATOR SEAT\n",
       "12  HB27 H-1-661                              SEAT OF SHAFT BEARING\n",
       "13  HB28 H-2-290                                       DOCKING PLAN\n",
       "14  HB29 H-2-292  RESULT OF LOCAL VIBRATION MEASUREMENT AT SEA T...\n",
       "15  HB30 H-2-490                             RENEWAL THICKNESS PLAN"
      ]
     },
     "metadata": {},
     "output_type": "display_data"
    },
    {
     "data": {
      "text/markdown": [
       "---\n",
       "## Extracted Content for SAMPLE3.pdf (Page 5)"
      ],
      "text/plain": [
       "<IPython.core.display.Markdown object>"
      ]
     },
     "metadata": {},
     "output_type": "display_data"
    },
    {
     "data": {
      "text/markdown": [
       "**Headings:**"
      ],
      "text/plain": [
       "<IPython.core.display.Markdown object>"
      ]
     },
     "metadata": {},
     "output_type": "display_data"
    },
    {
     "data": {
      "text/markdown": [
       "- S489"
      ],
      "text/plain": [
       "<IPython.core.display.Markdown object>"
      ]
     },
     "metadata": {},
     "output_type": "display_data"
    },
    {
     "data": {
      "text/markdown": [
       "- HULL PART"
      ],
      "text/plain": [
       "<IPython.core.display.Markdown object>"
      ]
     },
     "metadata": {},
     "output_type": "display_data"
    },
    {
     "data": {
      "text/markdown": [
       "**Paragraphs:**"
      ],
      "text/plain": [
       "<IPython.core.display.Markdown object>"
      ]
     },
     "metadata": {},
     "output_type": "display_data"
    },
    {
     "data": {
      "text/markdown": [
       "1. HC9 F-1-116 HOLD LADDER HC10 F-1-119 SHIP STRUCTURAL ACCESS MANUAL HC11 F-1-123 PILOT LADDER ARRANGEMENT HC12 F-1-125 ACCOMMODATION LADDER ARRANGEMENT HC13 F-1-160 HATCH COVER HANDLING ARRANGEMENT FOR EMERGENCY USE"
      ],
      "text/plain": [
       "<IPython.core.display.Markdown object>"
      ]
     },
     "metadata": {},
     "output_type": "display_data"
    },
    {
     "data": {
      "text/markdown": [
       "**Tables:**"
      ],
      "text/plain": [
       "<IPython.core.display.Markdown object>"
      ]
     },
     "metadata": {},
     "output_type": "display_data"
    },
    {
     "data": {
      "text/html": [
       "<div>\n",
       "<style scoped>\n",
       "    .dataframe tbody tr th:only-of-type {\n",
       "        vertical-align: middle;\n",
       "    }\n",
       "\n",
       "    .dataframe tbody tr th {\n",
       "        vertical-align: top;\n",
       "    }\n",
       "\n",
       "    .dataframe thead th {\n",
       "        text-align: right;\n",
       "    }\n",
       "</style>\n",
       "<table border=\"1\" class=\"dataframe\">\n",
       "  <thead>\n",
       "    <tr style=\"text-align: right;\">\n",
       "      <th></th>\n",
       "      <th>0</th>\n",
       "      <th>1</th>\n",
       "    </tr>\n",
       "  </thead>\n",
       "  <tbody>\n",
       "    <tr>\n",
       "      <th>0</th>\n",
       "      <td>HC 1 F-1-011</td>\n",
       "      <td>STEERING GEAR ROOM ARRANGEMENT</td>\n",
       "    </tr>\n",
       "    <tr>\n",
       "      <th>1</th>\n",
       "      <td>HC 2 F-1-013</td>\n",
       "      <td>RUDDER CARRIER</td>\n",
       "    </tr>\n",
       "    <tr>\n",
       "      <th>2</th>\n",
       "      <td>HC 3 F-1-015</td>\n",
       "      <td>ANCHORING &amp; MOORING ARRANGEMENT</td>\n",
       "    </tr>\n",
       "    <tr>\n",
       "      <th>3</th>\n",
       "      <td>HC 4 F-1-016</td>\n",
       "      <td>HAWSE PIPE</td>\n",
       "    </tr>\n",
       "    <tr>\n",
       "      <th>4</th>\n",
       "      <td>HC 5 F-1-031</td>\n",
       "      <td>LIFEBOAT &amp; RESCUE BOAT ARRANGEMENT</td>\n",
       "    </tr>\n",
       "    <tr>\n",
       "      <th>5</th>\n",
       "      <td>HC 6 F-1-036</td>\n",
       "      <td>NAVIGATION LIGHT ARRANGEMENT CAPY TASOB</td>\n",
       "    </tr>\n",
       "    <tr>\n",
       "      <th>6</th>\n",
       "      <td>HC 7 F-1-045</td>\n",
       "      <td>ARRANGEMENT OF PANAMA PILOT SHELTER</td>\n",
       "    </tr>\n",
       "    <tr>\n",
       "      <th>7</th>\n",
       "      <td>HC 8 F-1-105</td>\n",
       "      <td>VENTILATION, STEEL DOOR &amp; STEEL LADDER ARRANGE...</td>\n",
       "    </tr>\n",
       "    <tr>\n",
       "      <th>8</th>\n",
       "      <td>HC9 F-1-116</td>\n",
       "      <td>HOLD LADDER</td>\n",
       "    </tr>\n",
       "    <tr>\n",
       "      <th>9</th>\n",
       "      <td>HC10 F-1-119</td>\n",
       "      <td>SHIP STRUCTURAL ACCESS MANUAL</td>\n",
       "    </tr>\n",
       "    <tr>\n",
       "      <th>10</th>\n",
       "      <td>HC11 F-1-123</td>\n",
       "      <td>PILOT LADDER ARRANGEMENT</td>\n",
       "    </tr>\n",
       "    <tr>\n",
       "      <th>11</th>\n",
       "      <td>HC12 F-1-125</td>\n",
       "      <td>ACCOMMODATION LADDER ARRANGEMENT</td>\n",
       "    </tr>\n",
       "    <tr>\n",
       "      <th>12</th>\n",
       "      <td>HC13 F-1-160</td>\n",
       "      <td>HATCH COVER HANDLING ARRANGEMENT FOR EMERGENCY...</td>\n",
       "    </tr>\n",
       "  </tbody>\n",
       "</table>\n",
       "</div>"
      ],
      "text/plain": [
       "               0                                                  1\n",
       "0   HC 1 F-1-011                     STEERING GEAR ROOM ARRANGEMENT\n",
       "1   HC 2 F-1-013                                     RUDDER CARRIER\n",
       "2   HC 3 F-1-015                    ANCHORING & MOORING ARRANGEMENT\n",
       "3   HC 4 F-1-016                                         HAWSE PIPE\n",
       "4   HC 5 F-1-031                 LIFEBOAT & RESCUE BOAT ARRANGEMENT\n",
       "5   HC 6 F-1-036            NAVIGATION LIGHT ARRANGEMENT CAPY TASOB\n",
       "6   HC 7 F-1-045                ARRANGEMENT OF PANAMA PILOT SHELTER\n",
       "7   HC 8 F-1-105  VENTILATION, STEEL DOOR & STEEL LADDER ARRANGE...\n",
       "8    HC9 F-1-116                                        HOLD LADDER\n",
       "9   HC10 F-1-119                      SHIP STRUCTURAL ACCESS MANUAL\n",
       "10  HC11 F-1-123                           PILOT LADDER ARRANGEMENT\n",
       "11  HC12 F-1-125                   ACCOMMODATION LADDER ARRANGEMENT\n",
       "12  HC13 F-1-160  HATCH COVER HANDLING ARRANGEMENT FOR EMERGENCY..."
      ]
     },
     "metadata": {},
     "output_type": "display_data"
    },
    {
     "data": {
      "text/markdown": [
       "---\n",
       "## Extracted Content for SAMPLE3.pdf (Page 6)"
      ],
      "text/plain": [
       "<IPython.core.display.Markdown object>"
      ]
     },
     "metadata": {},
     "output_type": "display_data"
    },
    {
     "data": {
      "text/markdown": [
       "**Headings:**"
      ],
      "text/plain": [
       "<IPython.core.display.Markdown object>"
      ]
     },
     "metadata": {},
     "output_type": "display_data"
    },
    {
     "data": {
      "text/markdown": [
       "- S489"
      ],
      "text/plain": [
       "<IPython.core.display.Markdown object>"
      ]
     },
     "metadata": {},
     "output_type": "display_data"
    },
    {
     "data": {
      "text/markdown": [
       "- HULL PART"
      ],
      "text/plain": [
       "<IPython.core.display.Markdown object>"
      ]
     },
     "metadata": {},
     "output_type": "display_data"
    },
    {
     "data": {
      "text/markdown": [
       "**Paragraphs:**"
      ],
      "text/plain": [
       "<IPython.core.display.Markdown object>"
      ]
     },
     "metadata": {},
     "output_type": "display_data"
    },
    {
     "data": {
      "text/markdown": [
       "1. FORE MAST SIDE LIGHT POST PUMPING DIAGRAM F.O.TANK HEATING DIAGRAM STEAM & EXHAUST PIPING DIAGRAM (IN LIVING QUARTERS) DRAINAGE PLAN (IN LIVING QUARTERS) HC25 F-1-313IV DRAINAGE PLAN (IN LIVING QUARTERS) FOR MARPOL ANNEX IV WATER SERVICE DIAGRAM"
      ],
      "text/plain": [
       "<IPython.core.display.Markdown object>"
      ]
     },
     "metadata": {},
     "output_type": "display_data"
    },
    {
     "data": {
      "text/markdown": [
       "**Tables:**"
      ],
      "text/plain": [
       "<IPython.core.display.Markdown object>"
      ]
     },
     "metadata": {},
     "output_type": "display_data"
    },
    {
     "data": {
      "text/html": [
       "<div>\n",
       "<style scoped>\n",
       "    .dataframe tbody tr th:only-of-type {\n",
       "        vertical-align: middle;\n",
       "    }\n",
       "\n",
       "    .dataframe tbody tr th {\n",
       "        vertical-align: top;\n",
       "    }\n",
       "\n",
       "    .dataframe thead th {\n",
       "        text-align: right;\n",
       "    }\n",
       "</style>\n",
       "<table border=\"1\" class=\"dataframe\">\n",
       "  <thead>\n",
       "    <tr style=\"text-align: right;\">\n",
       "      <th></th>\n",
       "      <th>0</th>\n",
       "      <th>1</th>\n",
       "    </tr>\n",
       "  </thead>\n",
       "  <tbody>\n",
       "    <tr>\n",
       "      <th>0</th>\n",
       "      <td>HC14 F-1-180</td>\n",
       "      <td>STEEL DOOR &amp; STEEL LADDER ARRANGEMENT (ACCOMMO...</td>\n",
       "    </tr>\n",
       "    <tr>\n",
       "      <th>1</th>\n",
       "      <td>HC15 F-1-190-1</td>\n",
       "      <td>STEEL WORK PRACTICE (SHEET-1)</td>\n",
       "    </tr>\n",
       "    <tr>\n",
       "      <th>2</th>\n",
       "      <td>HC16 F-1-190-2</td>\n",
       "      <td>STEEL WORK PRACTICE (SHEET-2)</td>\n",
       "    </tr>\n",
       "    <tr>\n",
       "      <th>3</th>\n",
       "      <td>HC17 F-1-238</td>\n",
       "      <td>PROVISION CRANE ARRANGEMENT</td>\n",
       "    </tr>\n",
       "    <tr>\n",
       "      <th>4</th>\n",
       "      <td>HC18 F-1-270</td>\n",
       "      <td>RADAR MAST CAPY TASOB</td>\n",
       "    </tr>\n",
       "    <tr>\n",
       "      <th>5</th>\n",
       "      <td>HC19 F-1-271</td>\n",
       "      <td>FORE MAST</td>\n",
       "    </tr>\n",
       "    <tr>\n",
       "      <th>6</th>\n",
       "      <td>HC20 F-1-278</td>\n",
       "      <td>SIDE LIGHT POST</td>\n",
       "    </tr>\n",
       "    <tr>\n",
       "      <th>7</th>\n",
       "      <td>HC21 F-1-310</td>\n",
       "      <td>PUMPING DIAGRAM</td>\n",
       "    </tr>\n",
       "    <tr>\n",
       "      <th>8</th>\n",
       "      <td>HC22 F-1-311</td>\n",
       "      <td>F.O.TANK HEATING DIAGRAM</td>\n",
       "    </tr>\n",
       "    <tr>\n",
       "      <th>9</th>\n",
       "      <td>HC23 F-1-312</td>\n",
       "      <td>STEAM &amp; EXHAUST PIPING DIAGRAM (IN LIVING QUAR...</td>\n",
       "    </tr>\n",
       "    <tr>\n",
       "      <th>10</th>\n",
       "      <td>HC24 F-1-313</td>\n",
       "      <td>DRAINAGE PLAN (IN LIVING QUARTERS)</td>\n",
       "    </tr>\n",
       "    <tr>\n",
       "      <th>11</th>\n",
       "      <td>HC25 F-1-313IV</td>\n",
       "      <td>DRAINAGE PLAN (IN LIVING QUARTERS) FOR MARPOL ...</td>\n",
       "    </tr>\n",
       "    <tr>\n",
       "      <th>12</th>\n",
       "      <td>HC26 F-1-314</td>\n",
       "      <td>WATER SERVICE DIAGRAM</td>\n",
       "    </tr>\n",
       "  </tbody>\n",
       "</table>\n",
       "</div>"
      ],
      "text/plain": [
       "                 0                                                  1\n",
       "0     HC14 F-1-180  STEEL DOOR & STEEL LADDER ARRANGEMENT (ACCOMMO...\n",
       "1   HC15 F-1-190-1                      STEEL WORK PRACTICE (SHEET-1)\n",
       "2   HC16 F-1-190-2                      STEEL WORK PRACTICE (SHEET-2)\n",
       "3     HC17 F-1-238                        PROVISION CRANE ARRANGEMENT\n",
       "4     HC18 F-1-270                              RADAR MAST CAPY TASOB\n",
       "5     HC19 F-1-271                                          FORE MAST\n",
       "6     HC20 F-1-278                                    SIDE LIGHT POST\n",
       "7     HC21 F-1-310                                    PUMPING DIAGRAM\n",
       "8     HC22 F-1-311                           F.O.TANK HEATING DIAGRAM\n",
       "9     HC23 F-1-312  STEAM & EXHAUST PIPING DIAGRAM (IN LIVING QUAR...\n",
       "10    HC24 F-1-313                 DRAINAGE PLAN (IN LIVING QUARTERS)\n",
       "11  HC25 F-1-313IV  DRAINAGE PLAN (IN LIVING QUARTERS) FOR MARPOL ...\n",
       "12    HC26 F-1-314                              WATER SERVICE DIAGRAM"
      ]
     },
     "metadata": {},
     "output_type": "display_data"
    },
    {
     "data": {
      "text/markdown": [
       "---\n",
       "## Extracted Content for SAMPLE3.pdf (Page 7)"
      ],
      "text/plain": [
       "<IPython.core.display.Markdown object>"
      ]
     },
     "metadata": {},
     "output_type": "display_data"
    },
    {
     "data": {
      "text/markdown": [
       "**Headings:**"
      ],
      "text/plain": [
       "<IPython.core.display.Markdown object>"
      ]
     },
     "metadata": {},
     "output_type": "display_data"
    },
    {
     "data": {
      "text/markdown": [
       "- S489"
      ],
      "text/plain": [
       "<IPython.core.display.Markdown object>"
      ]
     },
     "metadata": {},
     "output_type": "display_data"
    },
    {
     "data": {
      "text/markdown": [
       "- HULL PART"
      ],
      "text/plain": [
       "<IPython.core.display.Markdown object>"
      ]
     },
     "metadata": {},
     "output_type": "display_data"
    },
    {
     "data": {
      "text/markdown": [
       "**Paragraphs:**"
      ],
      "text/plain": [
       "<IPython.core.display.Markdown object>"
      ]
     },
     "metadata": {},
     "output_type": "display_data"
    },
    {
     "data": {
      "text/markdown": [
       "1. DRAINAGE PLAN (EXPOSED DECK) BOOKLET OF PIPING PRACTICE COMPRESSED AIR PIPING DIAGRAM DRAFT GAUGE & TANK LEVEL GAUGE PIPING ARRANGEMENT WATER INGRESS ALARM SYSTEM DIAGRAM FIRE & WASH DECK PIPING DIAGRAM (HULL PART) HYDRAULIC OIL PIPING DIAGRAM ARRANGEMENT OF FIRE STATION JOINER PLAN GALLEY & PANTRY ARRANGEMENT ARRANGEMENT OF AIR COND. UNIT & REF. MACH. SCHEDULE OF FIRE PROTECTION (INCLUDING DECK COVERING, HEAT & SOUND INSULATION)"
      ],
      "text/plain": [
       "<IPython.core.display.Markdown object>"
      ]
     },
     "metadata": {},
     "output_type": "display_data"
    },
    {
     "data": {
      "text/markdown": [
       "**Tables:**"
      ],
      "text/plain": [
       "<IPython.core.display.Markdown object>"
      ]
     },
     "metadata": {},
     "output_type": "display_data"
    },
    {
     "data": {
      "text/html": [
       "<div>\n",
       "<style scoped>\n",
       "    .dataframe tbody tr th:only-of-type {\n",
       "        vertical-align: middle;\n",
       "    }\n",
       "\n",
       "    .dataframe tbody tr th {\n",
       "        vertical-align: top;\n",
       "    }\n",
       "\n",
       "    .dataframe thead th {\n",
       "        text-align: right;\n",
       "    }\n",
       "</style>\n",
       "<table border=\"1\" class=\"dataframe\">\n",
       "  <thead>\n",
       "    <tr style=\"text-align: right;\">\n",
       "      <th></th>\n",
       "      <th>0</th>\n",
       "      <th>1</th>\n",
       "    </tr>\n",
       "  </thead>\n",
       "  <tbody>\n",
       "    <tr>\n",
       "      <th>0</th>\n",
       "      <td>HC27 F-1-315</td>\n",
       "      <td>DRAINAGE PLAN (EXPOSED DECK)</td>\n",
       "    </tr>\n",
       "    <tr>\n",
       "      <th>1</th>\n",
       "      <td>HC28 F-1-316</td>\n",
       "      <td>BOOKLET OF PIPING PRACTICE</td>\n",
       "    </tr>\n",
       "    <tr>\n",
       "      <th>2</th>\n",
       "      <td>HC29 F-1-318</td>\n",
       "      <td>COMPRESSED AIR PIPING DIAGRAM</td>\n",
       "    </tr>\n",
       "    <tr>\n",
       "      <th>3</th>\n",
       "      <td>HC30 F-1-325</td>\n",
       "      <td>DRAFT GAUGE &amp; TANK LEVEL GAUGE PIPING ARRANGEMENT</td>\n",
       "    </tr>\n",
       "    <tr>\n",
       "      <th>4</th>\n",
       "      <td>HC31 F-1-327</td>\n",
       "      <td>WATER INGRESS ALARM SYSTEM DIAGRAM</td>\n",
       "    </tr>\n",
       "    <tr>\n",
       "      <th>5</th>\n",
       "      <td>HC32 F-1-330</td>\n",
       "      <td>CAPY TASOB FIRE &amp; WASH DECK PIPING DIAGRAM (HU...</td>\n",
       "    </tr>\n",
       "    <tr>\n",
       "      <th>6</th>\n",
       "      <td>HC33 F-1-357</td>\n",
       "      <td>HYDRAULIC OIL PIPING DIAGRAM</td>\n",
       "    </tr>\n",
       "    <tr>\n",
       "      <th>7</th>\n",
       "      <td>HC34 F-1-382</td>\n",
       "      <td>ARRANGEMENT OF FIRE STATION</td>\n",
       "    </tr>\n",
       "    <tr>\n",
       "      <th>8</th>\n",
       "      <td>HC35 F-1-605</td>\n",
       "      <td>JOINER PLAN</td>\n",
       "    </tr>\n",
       "    <tr>\n",
       "      <th>9</th>\n",
       "      <td>HC36 F-1-610</td>\n",
       "      <td>GALLEY &amp; PANTRY ARRANGEMENT</td>\n",
       "    </tr>\n",
       "    <tr>\n",
       "      <th>10</th>\n",
       "      <td>HC37 F-1-620</td>\n",
       "      <td>ARRANGEMENT OF AIR COND. UNIT &amp; REF. MACH.</td>\n",
       "    </tr>\n",
       "    <tr>\n",
       "      <th>11</th>\n",
       "      <td>HC38 F-1-640</td>\n",
       "      <td>SCHEDULE OF FIRE PROTECTION</td>\n",
       "    </tr>\n",
       "    <tr>\n",
       "      <th>12</th>\n",
       "      <td></td>\n",
       "      <td>(INCLUDING DECK COVERING, HEAT &amp; SOUND INSULAT...</td>\n",
       "    </tr>\n",
       "  </tbody>\n",
       "</table>\n",
       "</div>"
      ],
      "text/plain": [
       "               0                                                  1\n",
       "0   HC27 F-1-315                       DRAINAGE PLAN (EXPOSED DECK)\n",
       "1   HC28 F-1-316                         BOOKLET OF PIPING PRACTICE\n",
       "2   HC29 F-1-318                      COMPRESSED AIR PIPING DIAGRAM\n",
       "3   HC30 F-1-325  DRAFT GAUGE & TANK LEVEL GAUGE PIPING ARRANGEMENT\n",
       "4   HC31 F-1-327                 WATER INGRESS ALARM SYSTEM DIAGRAM\n",
       "5   HC32 F-1-330  CAPY TASOB FIRE & WASH DECK PIPING DIAGRAM (HU...\n",
       "6   HC33 F-1-357                       HYDRAULIC OIL PIPING DIAGRAM\n",
       "7   HC34 F-1-382                        ARRANGEMENT OF FIRE STATION\n",
       "8   HC35 F-1-605                                        JOINER PLAN\n",
       "9   HC36 F-1-610                        GALLEY & PANTRY ARRANGEMENT\n",
       "10  HC37 F-1-620         ARRANGEMENT OF AIR COND. UNIT & REF. MACH.\n",
       "11  HC38 F-1-640                        SCHEDULE OF FIRE PROTECTION\n",
       "12                (INCLUDING DECK COVERING, HEAT & SOUND INSULAT..."
      ]
     },
     "metadata": {},
     "output_type": "display_data"
    },
    {
     "data": {
      "text/markdown": [
       "---\n",
       "## Extracted Content for SAMPLE3.pdf (Page 8)"
      ],
      "text/plain": [
       "<IPython.core.display.Markdown object>"
      ]
     },
     "metadata": {},
     "output_type": "display_data"
    },
    {
     "data": {
      "text/markdown": [
       "**Headings:**"
      ],
      "text/plain": [
       "<IPython.core.display.Markdown object>"
      ]
     },
     "metadata": {},
     "output_type": "display_data"
    },
    {
     "data": {
      "text/markdown": [
       "- S489"
      ],
      "text/plain": [
       "<IPython.core.display.Markdown object>"
      ]
     },
     "metadata": {},
     "output_type": "display_data"
    },
    {
     "data": {
      "text/markdown": [
       "- HULL PART"
      ],
      "text/plain": [
       "<IPython.core.display.Markdown object>"
      ]
     },
     "metadata": {},
     "output_type": "display_data"
    },
    {
     "data": {
      "text/markdown": [
       "**Paragraphs:**"
      ],
      "text/plain": [
       "<IPython.core.display.Markdown object>"
      ]
     },
     "metadata": {},
     "output_type": "display_data"
    },
    {
     "data": {
      "text/markdown": [
       "1. HC. HULL FITTING HC39 F-1-641 FIRE CONTROL & LIFE SAVING APPLIANCE PLAN HC40 F-1-685 STOWAGE ARR. OF ACETYLENE & OXYGEN BOTTLES HC41 F-1-700 PAINTING SCHEME HC42 F-1-707 DOCUMENT FOR CERTIFICATE OF ANTI-FOULING SYSTEM HC43 F-1-715 SHIP'S NAME ARRANGEMENT HC44 F-1-716 FUNNEL MARK HC45 F-1-750 DRAFT MARK & PAINTING LINE HC46 F-1-754 TANK & BULKHEAD MARK (INCLUDING MARKS FOR IN-WATER SURVEY) HC47 F-1-770 BOOKLET FOR IN-WATER SURVEY HC48 F-1-772 IMO NUMBER MARK HC49 F-1-777 IMSBC CODE MARK HC50 F-1-781 INVENTORY OF HULL PART OUTFIT HC51 F-1-782 SPARE PARTS & TOOLS LIST (HULL PART)"
      ],
      "text/plain": [
       "<IPython.core.display.Markdown object>"
      ]
     },
     "metadata": {},
     "output_type": "display_data"
    },
    {
     "data": {
      "text/markdown": [
       "**Tables:**"
      ],
      "text/plain": [
       "<IPython.core.display.Markdown object>"
      ]
     },
     "metadata": {},
     "output_type": "display_data"
    },
    {
     "data": {
      "text/html": [
       "<div>\n",
       "<style scoped>\n",
       "    .dataframe tbody tr th:only-of-type {\n",
       "        vertical-align: middle;\n",
       "    }\n",
       "\n",
       "    .dataframe tbody tr th {\n",
       "        vertical-align: top;\n",
       "    }\n",
       "\n",
       "    .dataframe thead th {\n",
       "        text-align: right;\n",
       "    }\n",
       "</style>\n",
       "<table border=\"1\" class=\"dataframe\">\n",
       "  <thead>\n",
       "    <tr style=\"text-align: right;\">\n",
       "      <th></th>\n",
       "      <th>0</th>\n",
       "      <th>1</th>\n",
       "    </tr>\n",
       "  </thead>\n",
       "  <tbody>\n",
       "    <tr>\n",
       "      <th>0</th>\n",
       "      <td>HC39 F-1-641</td>\n",
       "      <td>FIRE CONTROL &amp; LIFE SAVING APPLIANCE PLAN</td>\n",
       "    </tr>\n",
       "    <tr>\n",
       "      <th>1</th>\n",
       "      <td>HC40 F-1-685</td>\n",
       "      <td>STOWAGE ARR. OF ACETYLENE &amp; OXYGEN BOTTLES</td>\n",
       "    </tr>\n",
       "    <tr>\n",
       "      <th>2</th>\n",
       "      <td>HC41 F-1-700</td>\n",
       "      <td>PAINTING SCHEME</td>\n",
       "    </tr>\n",
       "    <tr>\n",
       "      <th>3</th>\n",
       "      <td>HC42 F-1-707</td>\n",
       "      <td>DOCUMENT FOR CERTIFICATE OF ANTI-FOULING SYSTEM</td>\n",
       "    </tr>\n",
       "    <tr>\n",
       "      <th>4</th>\n",
       "      <td>HC43 F-1-715</td>\n",
       "      <td>SHIP'S NAME ARRANGEMENT</td>\n",
       "    </tr>\n",
       "    <tr>\n",
       "      <th>5</th>\n",
       "      <td>HC44 F-1-716</td>\n",
       "      <td>CAPY TASOB FUNNEL MARK</td>\n",
       "    </tr>\n",
       "    <tr>\n",
       "      <th>6</th>\n",
       "      <td>HC45 F-1-750</td>\n",
       "      <td>DRAFT MARK &amp; PAINTING LINE</td>\n",
       "    </tr>\n",
       "    <tr>\n",
       "      <th>7</th>\n",
       "      <td>HC46 F-1-754</td>\n",
       "      <td>TANK &amp; BULKHEAD MARK (INCLUDING MARKS FOR IN-W...</td>\n",
       "    </tr>\n",
       "    <tr>\n",
       "      <th>8</th>\n",
       "      <td>HC47 F-1-770</td>\n",
       "      <td>BOOKLET FOR IN-WATER SURVEY</td>\n",
       "    </tr>\n",
       "    <tr>\n",
       "      <th>9</th>\n",
       "      <td>HC48 F-1-772</td>\n",
       "      <td>IMO NUMBER MARK</td>\n",
       "    </tr>\n",
       "    <tr>\n",
       "      <th>10</th>\n",
       "      <td>HC49 F-1-777</td>\n",
       "      <td>IMSBC CODE MARK</td>\n",
       "    </tr>\n",
       "    <tr>\n",
       "      <th>11</th>\n",
       "      <td>HC50 F-1-781</td>\n",
       "      <td>INVENTORY OF HULL PART OUTFIT</td>\n",
       "    </tr>\n",
       "    <tr>\n",
       "      <th>12</th>\n",
       "      <td>HC51 F-1-782</td>\n",
       "      <td>SPARE PARTS &amp; TOOLS LIST (HULL PART)</td>\n",
       "    </tr>\n",
       "  </tbody>\n",
       "</table>\n",
       "</div>"
      ],
      "text/plain": [
       "               0                                                  1\n",
       "0   HC39 F-1-641          FIRE CONTROL & LIFE SAVING APPLIANCE PLAN\n",
       "1   HC40 F-1-685         STOWAGE ARR. OF ACETYLENE & OXYGEN BOTTLES\n",
       "2   HC41 F-1-700                                    PAINTING SCHEME\n",
       "3   HC42 F-1-707    DOCUMENT FOR CERTIFICATE OF ANTI-FOULING SYSTEM\n",
       "4   HC43 F-1-715                            SHIP'S NAME ARRANGEMENT\n",
       "5   HC44 F-1-716                             CAPY TASOB FUNNEL MARK\n",
       "6   HC45 F-1-750                         DRAFT MARK & PAINTING LINE\n",
       "7   HC46 F-1-754  TANK & BULKHEAD MARK (INCLUDING MARKS FOR IN-W...\n",
       "8   HC47 F-1-770                        BOOKLET FOR IN-WATER SURVEY\n",
       "9   HC48 F-1-772                                    IMO NUMBER MARK\n",
       "10  HC49 F-1-777                                    IMSBC CODE MARK\n",
       "11  HC50 F-1-781                      INVENTORY OF HULL PART OUTFIT\n",
       "12  HC51 F-1-782               SPARE PARTS & TOOLS LIST (HULL PART)"
      ]
     },
     "metadata": {},
     "output_type": "display_data"
    },
    {
     "data": {
      "text/markdown": [
       "---\n",
       "## Extracted Content for SAMPLE3.pdf (Page 9)"
      ],
      "text/plain": [
       "<IPython.core.display.Markdown object>"
      ]
     },
     "metadata": {},
     "output_type": "display_data"
    },
    {
     "data": {
      "text/markdown": [
       "**Headings:**"
      ],
      "text/plain": [
       "<IPython.core.display.Markdown object>"
      ]
     },
     "metadata": {},
     "output_type": "display_data"
    },
    {
     "data": {
      "text/markdown": [
       "- S489"
      ],
      "text/plain": [
       "<IPython.core.display.Markdown object>"
      ]
     },
     "metadata": {},
     "output_type": "display_data"
    },
    {
     "data": {
      "text/markdown": [
       "- HULL PART"
      ],
      "text/plain": [
       "<IPython.core.display.Markdown object>"
      ]
     },
     "metadata": {},
     "output_type": "display_data"
    },
    {
     "data": {
      "text/markdown": [
       "**Paragraphs:**"
      ],
      "text/plain": [
       "<IPython.core.display.Markdown object>"
      ]
     },
     "metadata": {},
     "output_type": "display_data"
    },
    {
     "data": {
      "text/markdown": [
       "1. HD. TEST RESULTS HD 1 F-2-001 TEST RESULT OF FREEFALL LIFEBOAT LAUNCHING HD 2 F-2-002 TEST RESULT OF \"LAUNCHING AT 5 KNOTS\" TEST FOR RESCUE BOAT HD 3 F-2-003 TEST RESULT OF RESCUE BOAT/ LIFE RAFT COMBINED DAVIT HD 4 F-2-103 TEST RESULT OF AIR CONDITIONING PLANT HD 5 F-2-204 TEST RESULT OF ACCOMMODATION LADDER HD 6 F-2-207 TEST RESULT OF PROVISION CRANE HD 7 F-2-208 TEST RESULT OF F.O. HOSE HANDLING DAVIT HD 8 F-2-301 TEST RESULT OF BILGE SUCTION HD 9 F-2-302 TEST RESULT OF SEA WATER FIRE FIGHTING SYSTEM HD10 F-2-307 TEST RESULT OF WATER INGRESS ALARM SYSTEM HD11 F-2-600 TEST RESULT OF REF. PROVISION PLANT HD12 F-2-601 TEST RESULT OF NOISE MEASUREMENT"
      ],
      "text/plain": [
       "<IPython.core.display.Markdown object>"
      ]
     },
     "metadata": {},
     "output_type": "display_data"
    },
    {
     "data": {
      "text/markdown": [
       "**Tables:**"
      ],
      "text/plain": [
       "<IPython.core.display.Markdown object>"
      ]
     },
     "metadata": {},
     "output_type": "display_data"
    },
    {
     "data": {
      "text/html": [
       "<div>\n",
       "<style scoped>\n",
       "    .dataframe tbody tr th:only-of-type {\n",
       "        vertical-align: middle;\n",
       "    }\n",
       "\n",
       "    .dataframe tbody tr th {\n",
       "        vertical-align: top;\n",
       "    }\n",
       "\n",
       "    .dataframe thead th {\n",
       "        text-align: right;\n",
       "    }\n",
       "</style>\n",
       "<table border=\"1\" class=\"dataframe\">\n",
       "  <thead>\n",
       "    <tr style=\"text-align: right;\">\n",
       "      <th></th>\n",
       "      <th>0</th>\n",
       "      <th>1</th>\n",
       "    </tr>\n",
       "  </thead>\n",
       "  <tbody>\n",
       "    <tr>\n",
       "      <th>0</th>\n",
       "      <td>HD 1 F-2-001</td>\n",
       "      <td>TEST RESULT OF FREEFALL LIFEBOAT LAUNCHING</td>\n",
       "    </tr>\n",
       "    <tr>\n",
       "      <th>1</th>\n",
       "      <td>HD 2 F-2-002</td>\n",
       "      <td>TEST RESULT OF \"LAUNCHING AT 5 KNOTS\" TEST FOR...</td>\n",
       "    </tr>\n",
       "    <tr>\n",
       "      <th>2</th>\n",
       "      <td>HD 3 F-2-003</td>\n",
       "      <td>TEST RESULT OF RESCUE BOAT/ LIFE RAFT COMBINED...</td>\n",
       "    </tr>\n",
       "    <tr>\n",
       "      <th>3</th>\n",
       "      <td>HD 4 F-2-103</td>\n",
       "      <td>TEST RESULT OF AIR CONDITIONING PLANT</td>\n",
       "    </tr>\n",
       "    <tr>\n",
       "      <th>4</th>\n",
       "      <td>HD 5 F-2-204</td>\n",
       "      <td>TEST RESULT OF ACCOMMODATION LADDER</td>\n",
       "    </tr>\n",
       "    <tr>\n",
       "      <th>5</th>\n",
       "      <td>HD 6 F-2-207</td>\n",
       "      <td>TEST RESULT OF PROVISION CRANE</td>\n",
       "    </tr>\n",
       "    <tr>\n",
       "      <th>6</th>\n",
       "      <td>HD 7 F-2-208</td>\n",
       "      <td>TEST RESULT OF F.O. HOSE HANDLING DAVIT CAPY T...</td>\n",
       "    </tr>\n",
       "    <tr>\n",
       "      <th>7</th>\n",
       "      <td>HD 8 F-2-301</td>\n",
       "      <td>TEST RESULT OF BILGE SUCTION</td>\n",
       "    </tr>\n",
       "    <tr>\n",
       "      <th>8</th>\n",
       "      <td>HD 9 F-2-302</td>\n",
       "      <td>TEST RESULT OF SEA WATER FIRE FIGHTING SYSTEM</td>\n",
       "    </tr>\n",
       "    <tr>\n",
       "      <th>9</th>\n",
       "      <td>HD10 F-2-307</td>\n",
       "      <td>TEST RESULT OF WATER INGRESS ALARM SYSTEM</td>\n",
       "    </tr>\n",
       "    <tr>\n",
       "      <th>10</th>\n",
       "      <td>HD11 F-2-600</td>\n",
       "      <td>TEST RESULT OF REF. PROVISION PLANT</td>\n",
       "    </tr>\n",
       "    <tr>\n",
       "      <th>11</th>\n",
       "      <td>HD12 F-2-601</td>\n",
       "      <td>TEST RESULT OF NOISE MEASUREMENT</td>\n",
       "    </tr>\n",
       "  </tbody>\n",
       "</table>\n",
       "</div>"
      ],
      "text/plain": [
       "               0                                                  1\n",
       "0   HD 1 F-2-001         TEST RESULT OF FREEFALL LIFEBOAT LAUNCHING\n",
       "1   HD 2 F-2-002  TEST RESULT OF \"LAUNCHING AT 5 KNOTS\" TEST FOR...\n",
       "2   HD 3 F-2-003  TEST RESULT OF RESCUE BOAT/ LIFE RAFT COMBINED...\n",
       "3   HD 4 F-2-103              TEST RESULT OF AIR CONDITIONING PLANT\n",
       "4   HD 5 F-2-204                TEST RESULT OF ACCOMMODATION LADDER\n",
       "5   HD 6 F-2-207                     TEST RESULT OF PROVISION CRANE\n",
       "6   HD 7 F-2-208  TEST RESULT OF F.O. HOSE HANDLING DAVIT CAPY T...\n",
       "7   HD 8 F-2-301                       TEST RESULT OF BILGE SUCTION\n",
       "8   HD 9 F-2-302      TEST RESULT OF SEA WATER FIRE FIGHTING SYSTEM\n",
       "9   HD10 F-2-307          TEST RESULT OF WATER INGRESS ALARM SYSTEM\n",
       "10  HD11 F-2-600                TEST RESULT OF REF. PROVISION PLANT\n",
       "11  HD12 F-2-601                   TEST RESULT OF NOISE MEASUREMENT"
      ]
     },
     "metadata": {},
     "output_type": "display_data"
    },
    {
     "data": {
      "text/markdown": [
       "---\n",
       "## Extracted Content for SAMPLE3.pdf (Page 10)"
      ],
      "text/plain": [
       "<IPython.core.display.Markdown object>"
      ]
     },
     "metadata": {},
     "output_type": "display_data"
    },
    {
     "data": {
      "text/markdown": [
       "**Headings:**"
      ],
      "text/plain": [
       "<IPython.core.display.Markdown object>"
      ]
     },
     "metadata": {},
     "output_type": "display_data"
    },
    {
     "data": {
      "text/markdown": [
       "- S489"
      ],
      "text/plain": [
       "<IPython.core.display.Markdown object>"
      ]
     },
     "metadata": {},
     "output_type": "display_data"
    },
    {
     "data": {
      "text/markdown": [
       "- HULL PART"
      ],
      "text/plain": [
       "<IPython.core.display.Markdown object>"
      ]
     },
     "metadata": {},
     "output_type": "display_data"
    },
    {
     "data": {
      "text/markdown": [
       "**Paragraphs:**"
      ],
      "text/plain": [
       "<IPython.core.display.Markdown object>"
      ]
     },
     "metadata": {},
     "output_type": "display_data"
    },
    {
     "data": {
      "text/markdown": [
       "1. HE. MAKER'S DRAWING HE 1 F-2-792 LIST OF MANUFACTURERS (HULL PART) HE 2 F-1-801 DECK MACHINERY HE 3 F-1-802 ELECTRO-HYDRAULIC STEERING GEAR HE 4 F-1-803 ANCHOR HE 5 F-1-804 ANCHOR CHAIN CABLE HE 6 F-1-807 ANCHOR CHAIN CABLE STOPPER HE 7 F-1-820 LIFEBOAT & RESCUE BOAT HE 8 F-1-821 FREEFALL LIFEBOAT DAVIT HE 9 F-1-822 INFLATABLE LIFERAFT HE10 F-1-823 RESCUE BOAT & LIFE RAFT COMBINED DAVIT HE11 F-1-825 AIR HORN & MANOEUVRING LIGHT HE12 F-1-826 CLINOMETER HE13 F-1-831 ACCOMMODATION LADDER HE14 F-1-832 PILOT LADDER HE15 F-1-833 PILOT ASSIST LADDER"
      ],
      "text/plain": [
       "<IPython.core.display.Markdown object>"
      ]
     },
     "metadata": {},
     "output_type": "display_data"
    },
    {
     "data": {
      "text/markdown": [
       "**Tables:**"
      ],
      "text/plain": [
       "<IPython.core.display.Markdown object>"
      ]
     },
     "metadata": {},
     "output_type": "display_data"
    },
    {
     "data": {
      "text/html": [
       "<div>\n",
       "<style scoped>\n",
       "    .dataframe tbody tr th:only-of-type {\n",
       "        vertical-align: middle;\n",
       "    }\n",
       "\n",
       "    .dataframe tbody tr th {\n",
       "        vertical-align: top;\n",
       "    }\n",
       "\n",
       "    .dataframe thead th {\n",
       "        text-align: right;\n",
       "    }\n",
       "</style>\n",
       "<table border=\"1\" class=\"dataframe\">\n",
       "  <thead>\n",
       "    <tr style=\"text-align: right;\">\n",
       "      <th></th>\n",
       "      <th>0</th>\n",
       "      <th>1</th>\n",
       "    </tr>\n",
       "  </thead>\n",
       "  <tbody>\n",
       "    <tr>\n",
       "      <th>0</th>\n",
       "      <td>HE 1 F-2-792</td>\n",
       "      <td>LIST OF MANUFACTURERS (HULL PART)</td>\n",
       "    </tr>\n",
       "    <tr>\n",
       "      <th>1</th>\n",
       "      <td>HE 2 F-1-801</td>\n",
       "      <td>DECK MACHINERY</td>\n",
       "    </tr>\n",
       "    <tr>\n",
       "      <th>2</th>\n",
       "      <td>HE 3 F-1-802</td>\n",
       "      <td>ELECTRO-HYDRAULIC STEERING GEAR</td>\n",
       "    </tr>\n",
       "    <tr>\n",
       "      <th>3</th>\n",
       "      <td>HE 4 F-1-803</td>\n",
       "      <td>ANCHOR</td>\n",
       "    </tr>\n",
       "    <tr>\n",
       "      <th>4</th>\n",
       "      <td>HE 5 F-1-804</td>\n",
       "      <td>ANCHOR CHAIN CABLE</td>\n",
       "    </tr>\n",
       "    <tr>\n",
       "      <th>5</th>\n",
       "      <td>HE 6 F-1-807</td>\n",
       "      <td>ANCHOR CHAIN CABLE STOPPER</td>\n",
       "    </tr>\n",
       "    <tr>\n",
       "      <th>6</th>\n",
       "      <td>HE 7 F-1-820</td>\n",
       "      <td>LIFEBOAT &amp; RESCUE BOAT</td>\n",
       "    </tr>\n",
       "    <tr>\n",
       "      <th>7</th>\n",
       "      <td>HE 8 F-1-821</td>\n",
       "      <td>FREEFALL LIFEBOAT DAVIT</td>\n",
       "    </tr>\n",
       "    <tr>\n",
       "      <th>8</th>\n",
       "      <td>HE 9 F-1-822</td>\n",
       "      <td>INFLATABLE LIFERAFT</td>\n",
       "    </tr>\n",
       "    <tr>\n",
       "      <th>9</th>\n",
       "      <td>HE10 F-1-823</td>\n",
       "      <td>RESCUE BOAT &amp; LIFE RAFT COMBINED DAVIT</td>\n",
       "    </tr>\n",
       "    <tr>\n",
       "      <th>10</th>\n",
       "      <td>HE11 F-1-825</td>\n",
       "      <td>AIR HORN &amp; MANOEUVRING LIGHT</td>\n",
       "    </tr>\n",
       "    <tr>\n",
       "      <th>11</th>\n",
       "      <td>HE12 F-1-826</td>\n",
       "      <td>CLINOMETER</td>\n",
       "    </tr>\n",
       "    <tr>\n",
       "      <th>12</th>\n",
       "      <td>HE13 F-1-831</td>\n",
       "      <td>ACCOMMODATION LADDER</td>\n",
       "    </tr>\n",
       "    <tr>\n",
       "      <th>13</th>\n",
       "      <td>HE14 F-1-832</td>\n",
       "      <td>PILOT LADDER</td>\n",
       "    </tr>\n",
       "    <tr>\n",
       "      <th>14</th>\n",
       "      <td>HE15 F-1-833</td>\n",
       "      <td>PILOT ASSIST LADDER</td>\n",
       "    </tr>\n",
       "  </tbody>\n",
       "</table>\n",
       "</div>"
      ],
      "text/plain": [
       "               0                                       1\n",
       "0   HE 1 F-2-792       LIST OF MANUFACTURERS (HULL PART)\n",
       "1   HE 2 F-1-801                          DECK MACHINERY\n",
       "2   HE 3 F-1-802         ELECTRO-HYDRAULIC STEERING GEAR\n",
       "3   HE 4 F-1-803                                  ANCHOR\n",
       "4   HE 5 F-1-804                      ANCHOR CHAIN CABLE\n",
       "5   HE 6 F-1-807              ANCHOR CHAIN CABLE STOPPER\n",
       "6   HE 7 F-1-820                  LIFEBOAT & RESCUE BOAT\n",
       "7   HE 8 F-1-821                 FREEFALL LIFEBOAT DAVIT\n",
       "8   HE 9 F-1-822                     INFLATABLE LIFERAFT\n",
       "9   HE10 F-1-823  RESCUE BOAT & LIFE RAFT COMBINED DAVIT\n",
       "10  HE11 F-1-825            AIR HORN & MANOEUVRING LIGHT\n",
       "11  HE12 F-1-826                              CLINOMETER\n",
       "12  HE13 F-1-831                    ACCOMMODATION LADDER\n",
       "13  HE14 F-1-832                            PILOT LADDER\n",
       "14  HE15 F-1-833                     PILOT ASSIST LADDER"
      ]
     },
     "metadata": {},
     "output_type": "display_data"
    },
    {
     "data": {
      "text/markdown": [
       "---\n",
       "## Extracted Content for SAMPLE3.pdf (Page 11)"
      ],
      "text/plain": [
       "<IPython.core.display.Markdown object>"
      ]
     },
     "metadata": {},
     "output_type": "display_data"
    },
    {
     "data": {
      "text/markdown": [
       "**Headings:**"
      ],
      "text/plain": [
       "<IPython.core.display.Markdown object>"
      ]
     },
     "metadata": {},
     "output_type": "display_data"
    },
    {
     "data": {
      "text/markdown": [
       "- S489"
      ],
      "text/plain": [
       "<IPython.core.display.Markdown object>"
      ]
     },
     "metadata": {},
     "output_type": "display_data"
    },
    {
     "data": {
      "text/markdown": [
       "- HULL PART"
      ],
      "text/plain": [
       "<IPython.core.display.Markdown object>"
      ]
     },
     "metadata": {},
     "output_type": "display_data"
    },
    {
     "data": {
      "text/markdown": [
       "**Paragraphs:**"
      ],
      "text/plain": [
       "<IPython.core.display.Markdown object>"
      ]
     },
     "metadata": {},
     "output_type": "display_data"
    },
    {
     "data": {
      "text/markdown": [
       "1. HE. MAKER'S DRAWING HE16 F-1-851 AXIAL FLOW FAN HE17 F-1-852 PORTABLE FAN HE18 F-1-853 STEEL HATCH COVER HE19 F-1-863 PROVISION CRANE HE20 F-1-865 F.O.HOSE HANDLING DAVIT HE21 F-1-869 SLUDGE DAVIT HE22 F-1-880 SEWAGE TREATMENT PLANT HE23 F-1-884 VALVE REMOTE CONTROL SYSTEM HE24 F-1-888 AIR PURGE TYPE TANK LEVEL GAUGE AND DRAFT GAUGE HE25 F-1-915 MANUAL HYDRAULIC VALVE REMOTE CONTROL SYSTEM AIR VENT HEAD, SELF CLOSING TYPE SOUNDING CAP, FLUSH TYPE SOUNDING CAP, F.W. FILLING CAP,SELF CLOSING VALVE WITH WEIGHT"
      ],
      "text/plain": [
       "<IPython.core.display.Markdown object>"
      ]
     },
     "metadata": {},
     "output_type": "display_data"
    },
    {
     "data": {
      "text/markdown": [
       "2. HE27 F-1-930 WATER INGRESS ALARM SYSTEM HE28 F-1-932 BILGE ALARM SENSOR (FOR E.F.P.SP & DUCT KEEL) HE29 F-1-934 DIAPHRAGM TYPE LEVEL GAUGE"
      ],
      "text/plain": [
       "<IPython.core.display.Markdown object>"
      ]
     },
     "metadata": {},
     "output_type": "display_data"
    },
    {
     "data": {
      "text/markdown": [
       "**Tables:**"
      ],
      "text/plain": [
       "<IPython.core.display.Markdown object>"
      ]
     },
     "metadata": {},
     "output_type": "display_data"
    },
    {
     "data": {
      "text/html": [
       "<div>\n",
       "<style scoped>\n",
       "    .dataframe tbody tr th:only-of-type {\n",
       "        vertical-align: middle;\n",
       "    }\n",
       "\n",
       "    .dataframe tbody tr th {\n",
       "        vertical-align: top;\n",
       "    }\n",
       "\n",
       "    .dataframe thead th {\n",
       "        text-align: right;\n",
       "    }\n",
       "</style>\n",
       "<table border=\"1\" class=\"dataframe\">\n",
       "  <thead>\n",
       "    <tr style=\"text-align: right;\">\n",
       "      <th></th>\n",
       "      <th>0</th>\n",
       "      <th>1</th>\n",
       "    </tr>\n",
       "  </thead>\n",
       "  <tbody>\n",
       "    <tr>\n",
       "      <th>0</th>\n",
       "      <td>HE16 F-1-851</td>\n",
       "      <td>AXIAL FLOW FAN</td>\n",
       "    </tr>\n",
       "    <tr>\n",
       "      <th>1</th>\n",
       "      <td>HE17 F-1-852</td>\n",
       "      <td>PORTABLE FAN</td>\n",
       "    </tr>\n",
       "    <tr>\n",
       "      <th>2</th>\n",
       "      <td>HE18 F-1-853</td>\n",
       "      <td>STEEL HATCH COVER</td>\n",
       "    </tr>\n",
       "    <tr>\n",
       "      <th>3</th>\n",
       "      <td>HE19 F-1-863</td>\n",
       "      <td>PROVISION CRANE</td>\n",
       "    </tr>\n",
       "    <tr>\n",
       "      <th>4</th>\n",
       "      <td>HE20 F-1-865</td>\n",
       "      <td>F.O.HOSE HANDLING DAVIT</td>\n",
       "    </tr>\n",
       "    <tr>\n",
       "      <th>5</th>\n",
       "      <td>HE21 F-1-869</td>\n",
       "      <td>SLUDGE DAVIT</td>\n",
       "    </tr>\n",
       "  </tbody>\n",
       "</table>\n",
       "</div>"
      ],
      "text/plain": [
       "              0                        1\n",
       "0  HE16 F-1-851           AXIAL FLOW FAN\n",
       "1  HE17 F-1-852             PORTABLE FAN\n",
       "2  HE18 F-1-853        STEEL HATCH COVER\n",
       "3  HE19 F-1-863          PROVISION CRANE\n",
       "4  HE20 F-1-865  F.O.HOSE HANDLING DAVIT\n",
       "5  HE21 F-1-869             SLUDGE DAVIT"
      ]
     },
     "metadata": {},
     "output_type": "display_data"
    },
    {
     "data": {
      "text/markdown": [
       "---\n",
       "## Extracted Content for SAMPLE3.pdf (Page 12)"
      ],
      "text/plain": [
       "<IPython.core.display.Markdown object>"
      ]
     },
     "metadata": {},
     "output_type": "display_data"
    },
    {
     "data": {
      "text/markdown": [
       "**Headings:**"
      ],
      "text/plain": [
       "<IPython.core.display.Markdown object>"
      ]
     },
     "metadata": {},
     "output_type": "display_data"
    },
    {
     "data": {
      "text/markdown": [
       "- S489"
      ],
      "text/plain": [
       "<IPython.core.display.Markdown object>"
      ]
     },
     "metadata": {},
     "output_type": "display_data"
    },
    {
     "data": {
      "text/markdown": [
       "- HULL PART"
      ],
      "text/plain": [
       "<IPython.core.display.Markdown object>"
      ]
     },
     "metadata": {},
     "output_type": "display_data"
    },
    {
     "data": {
      "text/markdown": [
       "**Paragraphs:**"
      ],
      "text/plain": [
       "<IPython.core.display.Markdown object>"
      ]
     },
     "metadata": {},
     "output_type": "display_data"
    },
    {
     "data": {
      "text/markdown": [
       "1. HE. MAKER'S DRAWING HE30 F-1-938 VACUUM TOILET SYSTEM HE31 F-1-950 ELEVATOR HE32 F-1-955 AIR CONDITIONING PLANT HE33 F-1-957 EXH. FAN FOR ACCOMMODATION HE34 F-1-959 DUCT ARRANGEMENT (ACCOMMODATION QUARTERS) HE35 F-1-961, AIR COMPRESSOR FOR BREATHING AIR BOTTLE HE36 F-1-962 SIDE SCUTTLE & SQUARE WINDOW HE37 F-1-966 REF. PROVISION PLANT HE38 F-1-967 ARRANGEMENT OF REF. PROV. CHAMBER HE39 F-1-970 OPERATION MANUAL OF LOADING COMPUTER HE40 F-1-974 COOKING APPARATUS HE41 F-1-975 ELECTRIC REFRIGERATOR F-1-976 DRINKING WATER FOUNTAIN F-1-982 LAUNDRY EQUIPMENT"
      ],
      "text/plain": [
       "<IPython.core.display.Markdown object>"
      ]
     },
     "metadata": {},
     "output_type": "display_data"
    },
    {
     "data": {
      "text/markdown": [
       "**Tables:**"
      ],
      "text/plain": [
       "<IPython.core.display.Markdown object>"
      ]
     },
     "metadata": {},
     "output_type": "display_data"
    },
    {
     "data": {
      "text/html": [
       "<div>\n",
       "<style scoped>\n",
       "    .dataframe tbody tr th:only-of-type {\n",
       "        vertical-align: middle;\n",
       "    }\n",
       "\n",
       "    .dataframe tbody tr th {\n",
       "        vertical-align: top;\n",
       "    }\n",
       "\n",
       "    .dataframe thead th {\n",
       "        text-align: right;\n",
       "    }\n",
       "</style>\n",
       "<table border=\"1\" class=\"dataframe\">\n",
       "  <thead>\n",
       "    <tr style=\"text-align: right;\">\n",
       "      <th></th>\n",
       "      <th>0</th>\n",
       "      <th>1</th>\n",
       "    </tr>\n",
       "  </thead>\n",
       "  <tbody>\n",
       "    <tr>\n",
       "      <th>0</th>\n",
       "      <td>HE30 F-1-938</td>\n",
       "      <td>VACUUM TOILET SYSTEM</td>\n",
       "    </tr>\n",
       "    <tr>\n",
       "      <th>1</th>\n",
       "      <td>HE31 F-1-950</td>\n",
       "      <td>ELEVATOR</td>\n",
       "    </tr>\n",
       "    <tr>\n",
       "      <th>2</th>\n",
       "      <td>HE32 F-1-955</td>\n",
       "      <td>AIR CONDITIONING PLANT</td>\n",
       "    </tr>\n",
       "    <tr>\n",
       "      <th>3</th>\n",
       "      <td>HE33 F-1-957</td>\n",
       "      <td>EXH. FAN FOR ACCOMMODATION</td>\n",
       "    </tr>\n",
       "    <tr>\n",
       "      <th>4</th>\n",
       "      <td>HE34 F-1-959</td>\n",
       "      <td>DUCT ARRANGEMENT (ACCOMMODATION QUARTERS)</td>\n",
       "    </tr>\n",
       "    <tr>\n",
       "      <th>5</th>\n",
       "      <td>HE35 F-1-961,</td>\n",
       "      <td>AIR COMPRESSOR FOR BREATHING AIR BOTTLE</td>\n",
       "    </tr>\n",
       "    <tr>\n",
       "      <th>6</th>\n",
       "      <td>HE36 F-1-962</td>\n",
       "      <td>CAPY TASOB SIDE SCUTTLE &amp; SQUARE WINDOW</td>\n",
       "    </tr>\n",
       "    <tr>\n",
       "      <th>7</th>\n",
       "      <td>HE37 F-1-966</td>\n",
       "      <td>REF. PROVISION PLANT</td>\n",
       "    </tr>\n",
       "    <tr>\n",
       "      <th>8</th>\n",
       "      <td>HE38 F-1-967</td>\n",
       "      <td>ARRANGEMENT OF REF. PROV. CHAMBER</td>\n",
       "    </tr>\n",
       "    <tr>\n",
       "      <th>9</th>\n",
       "      <td>HE39 F-1-970</td>\n",
       "      <td>OPERATION MANUAL OF LOADING COMPUTER</td>\n",
       "    </tr>\n",
       "    <tr>\n",
       "      <th>10</th>\n",
       "      <td>HE40 F-1-974</td>\n",
       "      <td>COOKING APPARATUS</td>\n",
       "    </tr>\n",
       "    <tr>\n",
       "      <th>11</th>\n",
       "      <td>HE41 F-1-975</td>\n",
       "      <td>ELECTRIC REFRIGERATOR</td>\n",
       "    </tr>\n",
       "    <tr>\n",
       "      <th>12</th>\n",
       "      <td>F-1-976</td>\n",
       "      <td>DRINKING WATER FOUNTAIN</td>\n",
       "    </tr>\n",
       "    <tr>\n",
       "      <th>13</th>\n",
       "      <td>F-1-982</td>\n",
       "      <td>LAUNDRY EQUIPMENT</td>\n",
       "    </tr>\n",
       "  </tbody>\n",
       "</table>\n",
       "</div>"
      ],
      "text/plain": [
       "                0                                          1\n",
       "0    HE30 F-1-938                       VACUUM TOILET SYSTEM\n",
       "1    HE31 F-1-950                                   ELEVATOR\n",
       "2    HE32 F-1-955                     AIR CONDITIONING PLANT\n",
       "3    HE33 F-1-957                 EXH. FAN FOR ACCOMMODATION\n",
       "4    HE34 F-1-959  DUCT ARRANGEMENT (ACCOMMODATION QUARTERS)\n",
       "5   HE35 F-1-961,    AIR COMPRESSOR FOR BREATHING AIR BOTTLE\n",
       "6    HE36 F-1-962    CAPY TASOB SIDE SCUTTLE & SQUARE WINDOW\n",
       "7    HE37 F-1-966                       REF. PROVISION PLANT\n",
       "8    HE38 F-1-967          ARRANGEMENT OF REF. PROV. CHAMBER\n",
       "9    HE39 F-1-970       OPERATION MANUAL OF LOADING COMPUTER\n",
       "10   HE40 F-1-974                          COOKING APPARATUS\n",
       "11   HE41 F-1-975                      ELECTRIC REFRIGERATOR\n",
       "12        F-1-976                    DRINKING WATER FOUNTAIN\n",
       "13        F-1-982                          LAUNDRY EQUIPMENT"
      ]
     },
     "metadata": {},
     "output_type": "display_data"
    },
    {
     "data": {
      "text/markdown": [
       "---\n",
       "## Extracted Content for SAMPLE3.pdf (Page 13)"
      ],
      "text/plain": [
       "<IPython.core.display.Markdown object>"
      ]
     },
     "metadata": {},
     "output_type": "display_data"
    },
    {
     "data": {
      "text/markdown": [
       "**Headings:**"
      ],
      "text/plain": [
       "<IPython.core.display.Markdown object>"
      ]
     },
     "metadata": {},
     "output_type": "display_data"
    },
    {
     "data": {
      "text/markdown": [
       "- S489"
      ],
      "text/plain": [
       "<IPython.core.display.Markdown object>"
      ]
     },
     "metadata": {},
     "output_type": "display_data"
    },
    {
     "data": {
      "text/markdown": [
       "- HULL PART"
      ],
      "text/plain": [
       "<IPython.core.display.Markdown object>"
      ]
     },
     "metadata": {},
     "output_type": "display_data"
    },
    {
     "data": {
      "text/markdown": [
       "**Paragraphs:**"
      ],
      "text/plain": [
       "<IPython.core.display.Markdown object>"
      ]
     },
     "metadata": {},
     "output_type": "display_data"
    },
    {
     "data": {
      "text/markdown": [
       "_None_"
      ],
      "text/plain": [
       "<IPython.core.display.Markdown object>"
      ]
     },
     "metadata": {},
     "output_type": "display_data"
    },
    {
     "data": {
      "text/markdown": [
       "**Tables:**"
      ],
      "text/plain": [
       "<IPython.core.display.Markdown object>"
      ]
     },
     "metadata": {},
     "output_type": "display_data"
    },
    {
     "data": {
      "text/html": [
       "<div>\n",
       "<style scoped>\n",
       "    .dataframe tbody tr th:only-of-type {\n",
       "        vertical-align: middle;\n",
       "    }\n",
       "\n",
       "    .dataframe tbody tr th {\n",
       "        vertical-align: top;\n",
       "    }\n",
       "\n",
       "    .dataframe thead th {\n",
       "        text-align: right;\n",
       "    }\n",
       "</style>\n",
       "<table border=\"1\" class=\"dataframe\">\n",
       "  <thead>\n",
       "    <tr style=\"text-align: right;\">\n",
       "      <th></th>\n",
       "      <th>0</th>\n",
       "      <th>1</th>\n",
       "    </tr>\n",
       "  </thead>\n",
       "  <tbody>\n",
       "    <tr>\n",
       "      <th>0</th>\n",
       "      <td>HE42 F-1-980</td>\n",
       "      <td>UNIT LAVATORY</td>\n",
       "    </tr>\n",
       "    <tr>\n",
       "      <th>1</th>\n",
       "      <td>HE43 F-1-985</td>\n",
       "      <td>CATHODIC PROTECTION SYSTEM IN W.B.T.</td>\n",
       "    </tr>\n",
       "    <tr>\n",
       "      <th>2</th>\n",
       "      <td>HE44 -</td>\n",
       "      <td>LIFE JACKET INSTRUCTION</td>\n",
       "    </tr>\n",
       "  </tbody>\n",
       "</table>\n",
       "</div>"
      ],
      "text/plain": [
       "              0                                     1\n",
       "0  HE42 F-1-980                         UNIT LAVATORY\n",
       "1  HE43 F-1-985  CATHODIC PROTECTION SYSTEM IN W.B.T.\n",
       "2        HE44 -               LIFE JACKET INSTRUCTION"
      ]
     },
     "metadata": {},
     "output_type": "display_data"
    },
    {
     "data": {
      "text/html": [
       "<div>\n",
       "<style scoped>\n",
       "    .dataframe tbody tr th:only-of-type {\n",
       "        vertical-align: middle;\n",
       "    }\n",
       "\n",
       "    .dataframe tbody tr th {\n",
       "        vertical-align: top;\n",
       "    }\n",
       "\n",
       "    .dataframe thead th {\n",
       "        text-align: right;\n",
       "    }\n",
       "</style>\n",
       "<table border=\"1\" class=\"dataframe\">\n",
       "  <thead>\n",
       "    <tr style=\"text-align: right;\">\n",
       "      <th></th>\n",
       "      <th>0</th>\n",
       "      <th>1</th>\n",
       "      <th>2</th>\n",
       "      <th>3</th>\n",
       "    </tr>\n",
       "  </thead>\n",
       "  <tbody>\n",
       "    <tr>\n",
       "      <th>0</th>\n",
       "      <td></td>\n",
       "      <td></td>\n",
       "      <td>CAPY TASOB</td>\n",
       "      <td></td>\n",
       "    </tr>\n",
       "    <tr>\n",
       "      <th>1</th>\n",
       "      <td></td>\n",
       "      <td></td>\n",
       "      <td></td>\n",
       "      <td></td>\n",
       "    </tr>\n",
       "    <tr>\n",
       "      <th>2</th>\n",
       "      <td></td>\n",
       "      <td></td>\n",
       "      <td></td>\n",
       "      <td></td>\n",
       "    </tr>\n",
       "  </tbody>\n",
       "</table>\n",
       "</div>"
      ],
      "text/plain": [
       "  0 1           2 3\n",
       "0      CAPY TASOB  \n",
       "1                  \n",
       "2                  "
      ]
     },
     "metadata": {},
     "output_type": "display_data"
    }
   ],
   "source": [
    "import os, cv2, pytesseract, boto3, spacy, pandas as pd, csv, json\n",
    "from pdf2image import convert_from_path\n",
    "from PIL import Image\n",
    "from pymongo import MongoClient\n",
    "from bson.binary import Binary\n",
    "from IPython.display import display, Markdown\n",
    "\n",
    "# === CONFIGURATION ===\n",
    "pdf_folder = \"input_pdfs\"\n",
    "output_img_root = \"output_images\"\n",
    "output_csv_root = \"output_csv\"\n",
    "output_fig_root = \"output_images\"\n",
    "poppler_path = r\"C:\\Users\\harik\\projects\\OCR_Project\\poppler\\Library\\bin\"\n",
    "tesseract_cmd = r\"C:\\Program Files\\Tesseract-OCR\\tesseract.exe\"\n",
    "mongo_uri = \"mongodb://localhost:27017/\"\n",
    "db_name = \"pdf_data\"\n",
    "\n",
    "pytesseract.pytesseract.tesseract_cmd = tesseract_cmd\n",
    "textract = boto3.client('textract')\n",
    "nlp = spacy.load(\"en_core_web_sm\")\n",
    "client = MongoClient(mongo_uri)\n",
    "db = client[db_name]\n",
    "\n",
    "# === HELPERS (unchanged) ===\n",
    "def analyze_width_for_para(block1, block2):\n",
    "    b1, b2 = block1['Geometry']['BoundingBox'], block2['Geometry']['BoundingBox']\n",
    "    s, l = (b1, b2) if b1['Width'] < b2['Width'] else (b2, b1)\n",
    "    s_left, s_right = s['Left'], s['Left'] + s['Width']\n",
    "    l_left, l_right = l['Left'], l['Left'] + l['Width']\n",
    "    s_width = s['Width']\n",
    "    if s_right <= l_left or s_left >= l_right:\n",
    "        return 0\n",
    "    elif s_left >= l_left and s_right <= l_right:\n",
    "        return 100\n",
    "    elif s_left <= l_left and s_right <= l_right:\n",
    "        return (s_right - l_left) / s_width\n",
    "    elif s_left >= l_left and s_right >= l_right:\n",
    "        return (l_right - s_left) / s_width\n",
    "    return 0\n",
    "\n",
    "def analyze_height_for_para(upper, lower):\n",
    "    u, l = upper['Geometry']['BoundingBox'], lower['Geometry']['BoundingBox']\n",
    "    return (l['Top'] - (u['Top'] + u['Height'])) / u['Height'] if u['Height'] != 0 else 0\n",
    "\n",
    "def is_basic_svo(sentence): return any(t.pos_ == \"VERB\" for t in nlp(sentence))\n",
    "def get_text_from_Id(lines, id): return next((b['Text'] for b in lines if b['Id'] == id), \"\")\n",
    "def get_block_from_Id(lines, id): return next((b for b in lines if b['Id'] == id), None)\n",
    "def correct_coordinates(lines, w, h):\n",
    "    for b in lines:\n",
    "        bb = b['Geometry']['BoundingBox']\n",
    "        bb.update({k: int(bb[k] * w if 'Width' in k or 'Left' in k else bb[k] * h) for k in bb})\n",
    "\n",
    "def is_long_sentence(text): return len(text.split()) > 4\n",
    "def calculate_average_font_size(lines): return sum(b['Geometry']['BoundingBox']['Height'] for b in lines) / len(lines)\n",
    "def list_headings(lines, pct):\n",
    "    avg = calculate_average_font_size(lines)\n",
    "    return [b['Id'] for b in lines if b['Geometry']['BoundingBox']['Height'] > avg * (1 + pct / 100) and b['Text'][0].isupper()]\n",
    "\n",
    "# === TABLE LOGIC ===\n",
    "def get_table_data(table, blocks_map):\n",
    "    rows = {}\n",
    "    for rel in table.get('Relationships', []):\n",
    "        if rel['Type'] == 'CHILD':\n",
    "            for cid in rel['Ids']:\n",
    "                cell = blocks_map[cid]\n",
    "                if cell['BlockType'] == 'CELL':\n",
    "                    row, col = cell['RowIndex'], cell['ColumnIndex']\n",
    "                    rows.setdefault(row, {})[col] = get_cell_text(cell, blocks_map)\n",
    "    sorted_rows = sorted(rows.items())\n",
    "    max_cols = max(len(r[1]) for r in sorted_rows)\n",
    "    return [[cols.get(c, '') for c in range(1, max_cols + 1)] for _, cols in sorted_rows]\n",
    "\n",
    "def get_cell_text(cell, blocks_map):\n",
    "    txt = ''\n",
    "    for rel in cell.get('Relationships', []):\n",
    "        for cid in rel.get('Ids', []):\n",
    "            b = blocks_map[cid]\n",
    "            if b['BlockType'] == 'WORD': txt += b['Text'] + ' '\n",
    "            elif b['BlockType'] == 'SELECTION_ELEMENT' and b['SelectionStatus'] == 'SELECTED': txt += 'X '\n",
    "    return txt.strip()\n",
    "\n",
    "# === CONVERT & ROTATE ===\n",
    "def convert_pdf_to_images(pdf_path, output_folder):\n",
    "    pdf_name = os.path.splitext(os.path.basename(pdf_path))[0]\n",
    "    os.makedirs(output_folder, exist_ok=True)\n",
    "    images = convert_from_path(pdf_path, poppler_path=poppler_path)\n",
    "    return [os.path.join(output_folder, f\"{pdf_name}_page_{i+1}.png\") for i, img in enumerate(images) if not img.save(os.path.join(output_folder, f\"{pdf_name}_page_{i+1}.png\"), 'PNG')]\n",
    "\n",
    "def correct_image_rotation(path):\n",
    "    img = Image.open(path)\n",
    "    try:\n",
    "        angle = pytesseract.image_to_osd(img, output_type=pytesseract.Output.DICT).get('rotate', 0)\n",
    "        if angle not in [0, 360]:\n",
    "            img.rotate(-angle, expand=True).save(path)\n",
    "            print(f\"🔄 Rotated {angle}°: {path}\")\n",
    "    except Exception as e:\n",
    "        print(f\"⚠️ Rotation detection failed: {e}\")\n",
    "    return path\n",
    "\n",
    "# === EXTRACT TABLES ===\n",
    "def extract_tables(image_path, document_id, page_number):\n",
    "    with open(image_path, \"rb\") as doc_file:\n",
    "        image_bytes = doc_file.read()\n",
    "    response = textract.analyze_document(Document={'Bytes': image_bytes}, FeatureTypes=[\"TABLES\"])\n",
    "    blocks = response['Blocks']\n",
    "    blocks_map = {b['Id']: b for b in blocks}\n",
    "    tables = [b for b in blocks if b['BlockType'] == 'TABLE']\n",
    "    structured_tables, raw_tables = [], []\n",
    "    image = cv2.imread(image_path)\n",
    "    h, w = image.shape[:2]\n",
    "    csv_dir = os.path.join(output_csv_root, document_id, \"tables\")\n",
    "    os.makedirs(csv_dir, exist_ok=True)\n",
    "\n",
    "    for i, table in enumerate(tables):\n",
    "        rows = get_table_data(table, blocks_map)\n",
    "        raw_tables.append(rows)\n",
    "\n",
    "        csv_file = os.path.join(csv_dir, f'table_page{page_number}_{i+1}.csv')\n",
    "        with open(csv_file, 'w', newline='', encoding='utf-8') as f: csv.writer(f).writerows(rows)\n",
    "        print(f\"✅ Saved table CSV: {csv_file}\")\n",
    "\n",
    "        if len(rows) >= 2 and len(rows[0]) >= 2:\n",
    "            dynamic_key = rows[0][0].strip() if rows[0][0].strip() else \"ColumnHeader\"\n",
    "            column_labels = rows[0][1:]\n",
    "            row_headers = [r[0] for r in rows[1:]]\n",
    "            table_data = []\n",
    "            for ci, label in enumerate(column_labels):\n",
    "                entry = {dynamic_key: label}\n",
    "                for ri, row in enumerate(rows[1:]):\n",
    "                    if len(row) > ci + 1:\n",
    "                        entry[row_headers[ri]] = row[ci + 1]\n",
    "                table_data.append(entry)\n",
    "            structured_tables.append(table_data)\n",
    "        else:\n",
    "            structured_tables.append(rows)\n",
    "\n",
    "    return structured_tables, raw_tables, blocks, response\n",
    "\n",
    "# === EXTRACT TEXT ===\n",
    "def extract_text(blocks, image_path):\n",
    "    lines = sorted([b for b in blocks if b['BlockType'] == 'LINE'], key=lambda x: x['Geometry']['BoundingBox']['Top'])\n",
    "    image = cv2.imread(image_path)\n",
    "    height, width = image.shape[:2]\n",
    "    correct_coordinates(lines, width, height)\n",
    "\n",
    "    line_links, complete, doc_paragraphs, doc_lines = {}, [], [], []\n",
    "    for i in range(len(lines)):\n",
    "        line_links[lines[i]['Id']] = None\n",
    "        for j in range(i + 1, len(lines)):\n",
    "            if analyze_height_for_para(lines[i], lines[j]) < 1 and analyze_width_for_para(lines[i], lines[j]) > 0.8:\n",
    "                line_links[lines[i]['Id']] = lines[j]['Id']\n",
    "                break\n",
    "\n",
    "    for k in line_links:\n",
    "        if k in complete: continue\n",
    "        clist = [k]; complete.append(k)\n",
    "        while line_links[clist[-1]]:\n",
    "            nxt = line_links[clist[-1]]\n",
    "            clist.append(nxt); complete.append(nxt)\n",
    "        text = ' '.join(get_text_from_Id(lines, lid) for lid in clist)\n",
    "        if len(clist) > 1 and is_long_sentence(text) and is_basic_svo(text):\n",
    "            doc_paragraphs.append(clist)\n",
    "        elif len(clist) == 1:\n",
    "            doc_lines.append(clist[0])\n",
    "\n",
    "    for group in doc_paragraphs + [[lid] for lid in doc_lines]:\n",
    "        for lid in group:\n",
    "            b = get_block_from_Id(lines, lid)\n",
    "            if b:\n",
    "                x, y, w_, h_ = b['Geometry']['BoundingBox'].values()\n",
    "                image[y:y+h_, x:x+w_] = (255, 255, 255)\n",
    "\n",
    "    doc_headings = list_headings(lines, 30)\n",
    "    grouped_headings = [get_text_from_Id(lines, lid) for lid in doc_headings]\n",
    "    grouped_paragraphs = [' '.join(get_text_from_Id(lines, lid) for lid in lst) for lst in doc_paragraphs]\n",
    "    grouped_lines = [get_text_from_Id(lines, lid) for lid in doc_lines]\n",
    "    return grouped_headings, grouped_paragraphs, grouped_lines, image\n",
    "\n",
    "# === IMAGES ===\n",
    "def extract_images(image_path, document_id, page_number):\n",
    "    image = cv2.imread(image_path)\n",
    "    gray = cv2.cvtColor(image, cv2.COLOR_BGR2GRAY)\n",
    "    blurred = cv2.GaussianBlur(gray, (5,5), 0)\n",
    "    _, thresh = cv2.threshold(blurred, 200, 255, cv2.THRESH_BINARY_INV)\n",
    "    contours, _ = cv2.findContours(thresh, cv2.RETR_EXTERNAL, cv2.CHAIN_APPROX_SIMPLE)\n",
    "    fig_dir = os.path.join(output_fig_root, document_id, \"figures\")\n",
    "    os.makedirs(fig_dir, exist_ok=True)\n",
    "    fig_paths = []\n",
    "    for i, cnt in enumerate(contours):\n",
    "        x, y, w, h = cv2.boundingRect(cnt)\n",
    "        if w > 200 and h > 200:\n",
    "            fig = image[y:y+h, x:x+w]\n",
    "            fig_path = os.path.join(fig_dir, f\"figure_page{page_number}_{i+1}.jpg\")\n",
    "            cv2.imwrite(fig_path, fig)\n",
    "            fig_paths.append(fig_path)\n",
    "    return fig_paths\n",
    "\n",
    "# === DISPLAY COLLECTOR & FINAL DISPLAY ===\n",
    "output_collector = []\n",
    "\n",
    "def process_document(image_path, pdf_file, page_num, doc_id):\n",
    "    structured_tables, raw_tables, blocks, raw_json = extract_tables(image_path, doc_id, page_num)\n",
    "    headings, paras, lines, masked_img = extract_text(blocks, image_path)\n",
    "    fig_paths = extract_images(image_path, doc_id, page_num)\n",
    "    figs_bin = [Binary(open(fp, \"rb\").read()) for fp in fig_paths]\n",
    "\n",
    "    # Store to MongoDB (with structured tables)\n",
    "    collection = db[os.path.splitext(pdf_file)[0]]\n",
    "    collection.insert_one({\n",
    "        \"document_id\": doc_id,\n",
    "        \"page_number\": page_num,\n",
    "        \"tables\": structured_tables,\n",
    "        \"paragraphs\": paras,\n",
    "        \"headings\": headings,\n",
    "        #\"lines\": lines,          #uncomment if u want to store lines in mongodb\n",
    "        \"figures\": figs_bin,\n",
    "        \"raw_textract_json\": json.loads(json.dumps(raw_json, default=str))\n",
    "    })\n",
    "\n",
    "    # Save labeled image\n",
    "    out_dir = os.path.join(output_img_root, doc_id)\n",
    "    os.makedirs(out_dir, exist_ok=True)\n",
    "    labeled_path = os.path.join(out_dir, f\"labeled_page_{page_num}.png\")\n",
    "    cv2.imwrite(labeled_path, masked_img)\n",
    "\n",
    "    # Save to display collector\n",
    "    output_collector.append({\n",
    "        \"pdf_file\": pdf_file,\n",
    "        \"page_num\": page_num,\n",
    "        \"headings\": headings,\n",
    "        \"paragraphs\": paras,\n",
    "        #\"lines\": lines,       #uncomment if u want to display lines\n",
    "        \"tables\": raw_tables  # ⬅️ Use raw extracted 2D rows here\n",
    "    })\n",
    "\n",
    "def display_final_output():\n",
    "    for page_data in output_collector:\n",
    "        display(Markdown(f\"---\\n## Extracted Content for {page_data['pdf_file']} (Page {page_data['page_num']})\"))\n",
    "\n",
    "        display(Markdown(\"**Headings:**\"))\n",
    "        if page_data[\"headings\"]:\n",
    "            for h in page_data[\"headings\"]:\n",
    "                display(Markdown(f\"- {h}\"))\n",
    "        else:\n",
    "            display(Markdown(\"_None_\"))\n",
    "\n",
    "        display(Markdown(\"**Paragraphs:**\"))\n",
    "        if page_data[\"paragraphs\"]:\n",
    "            for i, p in enumerate(page_data[\"paragraphs\"], 1):\n",
    "                display(Markdown(f\"{i}. {p}\"))\n",
    "        else:\n",
    "            display(Markdown(\"_None_\"))\n",
    "\n",
    "       # display(Markdown(\"**Lines:**\"))\n",
    "       # if page_data[\"lines\"]:\n",
    "        #    for i, l in enumerate(page_data[\"lines\"], 1):\n",
    "        #        display(Markdown(f\"{i}. {l}\"))\n",
    "        #else:\n",
    "         #   display(Markdown(\"_None_\"))\n",
    "\n",
    "        display(Markdown(\"**Tables:**\"))\n",
    "        if page_data[\"tables\"]:\n",
    "            for t in page_data[\"tables\"]:\n",
    "                display(pd.DataFrame(t) if isinstance(t, list) else Markdown(\"_Not a valid table_\"))\n",
    "        else:\n",
    "            display(Markdown(\"_None_\"))\n",
    "\n",
    "def process_all_pdfs():\n",
    "    for pdf in os.listdir(pdf_folder):\n",
    "        if pdf.lower().endswith(\".pdf\"):\n",
    "            path = os.path.join(pdf_folder, pdf)\n",
    "            doc_id = os.path.splitext(pdf)[0]\n",
    "            image_paths = convert_pdf_to_images(path, os.path.join(output_img_root, doc_id))\n",
    "            for i, img_path in enumerate(image_paths):\n",
    "                print(f\"📄 Processing {img_path}...\")\n",
    "                corrected = correct_image_rotation(img_path)\n",
    "                process_document(corrected, pdf, i + 1, doc_id)\n",
    "    print(\"🎉 All PDFs processed successfully!\")\n",
    "    display_final_output()\n",
    "\n",
    "if __name__ == \"__main__\":\n",
    "    process_all_pdfs()"
   ]
  },
  {
   "cell_type": "code",
   "execution_count": null,
   "id": "40f41971-8491-417d-b62b-5d24a8090cfc",
   "metadata": {},
   "outputs": [],
   "source": []
  }
 ],
 "metadata": {
  "kernelspec": {
   "display_name": "Python 3 (ipykernel)",
   "language": "python",
   "name": "python3"
  },
  "language_info": {
   "codemirror_mode": {
    "name": "ipython",
    "version": 3
   },
   "file_extension": ".py",
   "mimetype": "text/x-python",
   "name": "python",
   "nbconvert_exporter": "python",
   "pygments_lexer": "ipython3",
   "version": "3.12.10"
  }
 },
 "nbformat": 4,
 "nbformat_minor": 5
}
